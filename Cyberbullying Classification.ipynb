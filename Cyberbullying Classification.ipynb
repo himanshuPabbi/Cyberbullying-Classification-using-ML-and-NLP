{
 "cells": [
  {
   "cell_type": "markdown",
   "id": "319f091a",
   "metadata": {},
   "source": [
    "# In this project, Cyberbully Classification has been analyzed cyberbullying type However, before performing the classification, we have prepared the main information as follows.\n",
    "\n",
    "1. Check Information\n",
    "2. data validation\n",
    "3. Exploratory analytical visualization (EDA)\n",
    "4. Cleaning Data\n",
    "5. classification\n",
    "6. prediction"
   ]
  },
  {
   "cell_type": "code",
   "execution_count": 1,
   "id": "c0a1ad92",
   "metadata": {},
   "outputs": [],
   "source": [
    "import pandas as pd"
   ]
  },
  {
   "cell_type": "code",
   "execution_count": 2,
   "id": "8435a230",
   "metadata": {},
   "outputs": [],
   "source": [
    "import seaborn as sns"
   ]
  },
  {
   "cell_type": "code",
   "execution_count": 3,
   "id": "cece39eb",
   "metadata": {},
   "outputs": [],
   "source": [
    "import matplotlib.pyplot as plt"
   ]
  },
  {
   "cell_type": "code",
   "execution_count": 4,
   "id": "90b589e9",
   "metadata": {},
   "outputs": [],
   "source": [
    "import nltk"
   ]
  },
  {
   "cell_type": "code",
   "execution_count": 5,
   "id": "356c1ce3",
   "metadata": {},
   "outputs": [],
   "source": [
    "import string"
   ]
  },
  {
   "cell_type": "code",
   "execution_count": 6,
   "id": "2e73430d",
   "metadata": {},
   "outputs": [],
   "source": [
    "import re"
   ]
  },
  {
   "cell_type": "code",
   "execution_count": 7,
   "id": "0c553b8f",
   "metadata": {},
   "outputs": [],
   "source": [
    "from sklearn.feature_extraction.text import CountVectorizer\n"
   ]
  },
  {
   "cell_type": "code",
   "execution_count": 8,
   "id": "96c7f04d",
   "metadata": {},
   "outputs": [],
   "source": [
    "from collections import Counter"
   ]
  },
  {
   "cell_type": "code",
   "execution_count": 9,
   "id": "3f6a8760",
   "metadata": {},
   "outputs": [],
   "source": [
    "from sklearn.ensemble import RandomForestClassifier"
   ]
  },
  {
   "cell_type": "code",
   "execution_count": 10,
   "id": "bbe7b785",
   "metadata": {},
   "outputs": [],
   "source": [
    "from sklearn.metrics import accuracy_score,confusion_matrix,classification_report"
   ]
  },
  {
   "cell_type": "code",
   "execution_count": 11,
   "id": "e57811c6",
   "metadata": {},
   "outputs": [],
   "source": [
    "import seaborn as sns"
   ]
  },
  {
   "cell_type": "code",
   "execution_count": 12,
   "id": "d5a56294",
   "metadata": {},
   "outputs": [],
   "source": [
    "from wordcloud import WordCloud"
   ]
  },
  {
   "cell_type": "code",
   "execution_count": 13,
   "id": "057031b7",
   "metadata": {},
   "outputs": [],
   "source": [
    "from collections import Counter"
   ]
  },
  {
   "cell_type": "code",
   "execution_count": 14,
   "id": "0c604cd2",
   "metadata": {},
   "outputs": [],
   "source": [
    "from sklearn.linear_model import LogisticRegression "
   ]
  },
  {
   "cell_type": "code",
   "execution_count": 15,
   "id": "1f0e67f4",
   "metadata": {},
   "outputs": [],
   "source": [
    "from sklearn.neighbors import KNeighborsClassifier"
   ]
  },
  {
   "cell_type": "code",
   "execution_count": 16,
   "id": "d56e790c",
   "metadata": {},
   "outputs": [],
   "source": [
    "import xgboost as xgb"
   ]
  },
  {
   "cell_type": "code",
   "execution_count": 17,
   "id": "2529e73b",
   "metadata": {},
   "outputs": [],
   "source": [
    "import nltk"
   ]
  },
  {
   "cell_type": "code",
   "execution_count": 18,
   "id": "ab3fbc7f",
   "metadata": {},
   "outputs": [],
   "source": [
    "from nltk.corpus import stopwords"
   ]
  },
  {
   "cell_type": "code",
   "execution_count": 19,
   "id": "78b2c920",
   "metadata": {},
   "outputs": [],
   "source": [
    "import string"
   ]
  },
  {
   "cell_type": "code",
   "execution_count": 20,
   "id": "72e70faf",
   "metadata": {},
   "outputs": [],
   "source": [
    "from nltk.stem import PorterStemmer"
   ]
  },
  {
   "cell_type": "code",
   "execution_count": 21,
   "id": "4efa4bb0",
   "metadata": {},
   "outputs": [],
   "source": [
    "from sklearn.model_selection import train_test_split"
   ]
  },
  {
   "cell_type": "code",
   "execution_count": 22,
   "id": "8dd1be2c",
   "metadata": {},
   "outputs": [],
   "source": [
    "from sklearn.feature_extraction.text import TfidfVectorizer"
   ]
  },
  {
   "cell_type": "code",
   "execution_count": 23,
   "id": "d434e5db",
   "metadata": {},
   "outputs": [],
   "source": [
    "from sklearn.preprocessing import LabelEncoder"
   ]
  },
  {
   "cell_type": "code",
   "execution_count": 24,
   "id": "89dd3f8b",
   "metadata": {},
   "outputs": [],
   "source": [
    "df=pd.read_csv(\"cyberbullying_tweets.csv\")\n"
   ]
  },
  {
   "cell_type": "code",
   "execution_count": 25,
   "id": "e8ddf3a6",
   "metadata": {},
   "outputs": [
    {
     "data": {
      "text/html": [
       "<div>\n",
       "<style scoped>\n",
       "    .dataframe tbody tr th:only-of-type {\n",
       "        vertical-align: middle;\n",
       "    }\n",
       "\n",
       "    .dataframe tbody tr th {\n",
       "        vertical-align: top;\n",
       "    }\n",
       "\n",
       "    .dataframe thead th {\n",
       "        text-align: right;\n",
       "    }\n",
       "</style>\n",
       "<table border=\"1\" class=\"dataframe\">\n",
       "  <thead>\n",
       "    <tr style=\"text-align: right;\">\n",
       "      <th></th>\n",
       "      <th>tweet_text</th>\n",
       "      <th>cyberbullying_type</th>\n",
       "    </tr>\n",
       "  </thead>\n",
       "  <tbody>\n",
       "    <tr>\n",
       "      <th>0</th>\n",
       "      <td>In other words #katandandre, your food was cra...</td>\n",
       "      <td>not_cyberbullying</td>\n",
       "    </tr>\n",
       "    <tr>\n",
       "      <th>1</th>\n",
       "      <td>Why is #aussietv so white? #MKR #theblock #ImA...</td>\n",
       "      <td>not_cyberbullying</td>\n",
       "    </tr>\n",
       "    <tr>\n",
       "      <th>2</th>\n",
       "      <td>@XochitlSuckkks a classy whore? Or more red ve...</td>\n",
       "      <td>not_cyberbullying</td>\n",
       "    </tr>\n",
       "    <tr>\n",
       "      <th>3</th>\n",
       "      <td>@Jason_Gio meh. :P  thanks for the heads up, b...</td>\n",
       "      <td>not_cyberbullying</td>\n",
       "    </tr>\n",
       "    <tr>\n",
       "      <th>4</th>\n",
       "      <td>@RudhoeEnglish This is an ISIS account pretend...</td>\n",
       "      <td>not_cyberbullying</td>\n",
       "    </tr>\n",
       "    <tr>\n",
       "      <th>...</th>\n",
       "      <td>...</td>\n",
       "      <td>...</td>\n",
       "    </tr>\n",
       "    <tr>\n",
       "      <th>47687</th>\n",
       "      <td>Black ppl aren't expected to do anything, depe...</td>\n",
       "      <td>ethnicity</td>\n",
       "    </tr>\n",
       "    <tr>\n",
       "      <th>47688</th>\n",
       "      <td>Turner did not withhold his disappointment. Tu...</td>\n",
       "      <td>ethnicity</td>\n",
       "    </tr>\n",
       "    <tr>\n",
       "      <th>47689</th>\n",
       "      <td>I swear to God. This dumb nigger bitch. I have...</td>\n",
       "      <td>ethnicity</td>\n",
       "    </tr>\n",
       "    <tr>\n",
       "      <th>47690</th>\n",
       "      <td>Yea fuck you RT @therealexel: IF YOURE A NIGGE...</td>\n",
       "      <td>ethnicity</td>\n",
       "    </tr>\n",
       "    <tr>\n",
       "      <th>47691</th>\n",
       "      <td>Bro. U gotta chill RT @CHILLShrammy: Dog FUCK ...</td>\n",
       "      <td>ethnicity</td>\n",
       "    </tr>\n",
       "  </tbody>\n",
       "</table>\n",
       "<p>47692 rows × 2 columns</p>\n",
       "</div>"
      ],
      "text/plain": [
       "                                              tweet_text cyberbullying_type\n",
       "0      In other words #katandandre, your food was cra...  not_cyberbullying\n",
       "1      Why is #aussietv so white? #MKR #theblock #ImA...  not_cyberbullying\n",
       "2      @XochitlSuckkks a classy whore? Or more red ve...  not_cyberbullying\n",
       "3      @Jason_Gio meh. :P  thanks for the heads up, b...  not_cyberbullying\n",
       "4      @RudhoeEnglish This is an ISIS account pretend...  not_cyberbullying\n",
       "...                                                  ...                ...\n",
       "47687  Black ppl aren't expected to do anything, depe...          ethnicity\n",
       "47688  Turner did not withhold his disappointment. Tu...          ethnicity\n",
       "47689  I swear to God. This dumb nigger bitch. I have...          ethnicity\n",
       "47690  Yea fuck you RT @therealexel: IF YOURE A NIGGE...          ethnicity\n",
       "47691  Bro. U gotta chill RT @CHILLShrammy: Dog FUCK ...          ethnicity\n",
       "\n",
       "[47692 rows x 2 columns]"
      ]
     },
     "execution_count": 25,
     "metadata": {},
     "output_type": "execute_result"
    }
   ],
   "source": [
    "df"
   ]
  },
  {
   "cell_type": "code",
   "execution_count": 26,
   "id": "7a3c59da",
   "metadata": {},
   "outputs": [
    {
     "data": {
      "text/plain": [
       "tweet_text            0\n",
       "cyberbullying_type    0\n",
       "dtype: int64"
      ]
     },
     "execution_count": 26,
     "metadata": {},
     "output_type": "execute_result"
    }
   ],
   "source": [
    "df.isnull().sum()"
   ]
  },
  {
   "cell_type": "code",
   "execution_count": 27,
   "id": "e83a6735",
   "metadata": {},
   "outputs": [
    {
     "name": "stdout",
     "output_type": "stream",
     "text": [
      "<class 'pandas.core.frame.DataFrame'>\n",
      "RangeIndex: 47692 entries, 0 to 47691\n",
      "Data columns (total 2 columns):\n",
      " #   Column              Non-Null Count  Dtype \n",
      "---  ------              --------------  ----- \n",
      " 0   tweet_text          47692 non-null  object\n",
      " 1   cyberbullying_type  47692 non-null  object\n",
      "dtypes: object(2)\n",
      "memory usage: 745.3+ KB\n"
     ]
    }
   ],
   "source": [
    "df.info()"
   ]
  },
  {
   "cell_type": "code",
   "execution_count": 28,
   "id": "926ee370",
   "metadata": {},
   "outputs": [],
   "source": [
    "df=df.drop_duplicates()"
   ]
  },
  {
   "cell_type": "code",
   "execution_count": 29,
   "id": "605adecb",
   "metadata": {},
   "outputs": [
    {
     "data": {
      "text/html": [
       "<div>\n",
       "<style scoped>\n",
       "    .dataframe tbody tr th:only-of-type {\n",
       "        vertical-align: middle;\n",
       "    }\n",
       "\n",
       "    .dataframe tbody tr th {\n",
       "        vertical-align: top;\n",
       "    }\n",
       "\n",
       "    .dataframe thead th {\n",
       "        text-align: right;\n",
       "    }\n",
       "</style>\n",
       "<table border=\"1\" class=\"dataframe\">\n",
       "  <thead>\n",
       "    <tr style=\"text-align: right;\">\n",
       "      <th></th>\n",
       "      <th>tweet_text</th>\n",
       "      <th>cyberbullying_type</th>\n",
       "    </tr>\n",
       "  </thead>\n",
       "  <tbody>\n",
       "    <tr>\n",
       "      <th>0</th>\n",
       "      <td>In other words #katandandre, your food was cra...</td>\n",
       "      <td>not_cyberbullying</td>\n",
       "    </tr>\n",
       "    <tr>\n",
       "      <th>1</th>\n",
       "      <td>Why is #aussietv so white? #MKR #theblock #ImA...</td>\n",
       "      <td>not_cyberbullying</td>\n",
       "    </tr>\n",
       "    <tr>\n",
       "      <th>2</th>\n",
       "      <td>@XochitlSuckkks a classy whore? Or more red ve...</td>\n",
       "      <td>not_cyberbullying</td>\n",
       "    </tr>\n",
       "    <tr>\n",
       "      <th>3</th>\n",
       "      <td>@Jason_Gio meh. :P  thanks for the heads up, b...</td>\n",
       "      <td>not_cyberbullying</td>\n",
       "    </tr>\n",
       "    <tr>\n",
       "      <th>4</th>\n",
       "      <td>@RudhoeEnglish This is an ISIS account pretend...</td>\n",
       "      <td>not_cyberbullying</td>\n",
       "    </tr>\n",
       "    <tr>\n",
       "      <th>...</th>\n",
       "      <td>...</td>\n",
       "      <td>...</td>\n",
       "    </tr>\n",
       "    <tr>\n",
       "      <th>47687</th>\n",
       "      <td>Black ppl aren't expected to do anything, depe...</td>\n",
       "      <td>ethnicity</td>\n",
       "    </tr>\n",
       "    <tr>\n",
       "      <th>47688</th>\n",
       "      <td>Turner did not withhold his disappointment. Tu...</td>\n",
       "      <td>ethnicity</td>\n",
       "    </tr>\n",
       "    <tr>\n",
       "      <th>47689</th>\n",
       "      <td>I swear to God. This dumb nigger bitch. I have...</td>\n",
       "      <td>ethnicity</td>\n",
       "    </tr>\n",
       "    <tr>\n",
       "      <th>47690</th>\n",
       "      <td>Yea fuck you RT @therealexel: IF YOURE A NIGGE...</td>\n",
       "      <td>ethnicity</td>\n",
       "    </tr>\n",
       "    <tr>\n",
       "      <th>47691</th>\n",
       "      <td>Bro. U gotta chill RT @CHILLShrammy: Dog FUCK ...</td>\n",
       "      <td>ethnicity</td>\n",
       "    </tr>\n",
       "  </tbody>\n",
       "</table>\n",
       "<p>47656 rows × 2 columns</p>\n",
       "</div>"
      ],
      "text/plain": [
       "                                              tweet_text cyberbullying_type\n",
       "0      In other words #katandandre, your food was cra...  not_cyberbullying\n",
       "1      Why is #aussietv so white? #MKR #theblock #ImA...  not_cyberbullying\n",
       "2      @XochitlSuckkks a classy whore? Or more red ve...  not_cyberbullying\n",
       "3      @Jason_Gio meh. :P  thanks for the heads up, b...  not_cyberbullying\n",
       "4      @RudhoeEnglish This is an ISIS account pretend...  not_cyberbullying\n",
       "...                                                  ...                ...\n",
       "47687  Black ppl aren't expected to do anything, depe...          ethnicity\n",
       "47688  Turner did not withhold his disappointment. Tu...          ethnicity\n",
       "47689  I swear to God. This dumb nigger bitch. I have...          ethnicity\n",
       "47690  Yea fuck you RT @therealexel: IF YOURE A NIGGE...          ethnicity\n",
       "47691  Bro. U gotta chill RT @CHILLShrammy: Dog FUCK ...          ethnicity\n",
       "\n",
       "[47656 rows x 2 columns]"
      ]
     },
     "execution_count": 29,
     "metadata": {},
     "output_type": "execute_result"
    }
   ],
   "source": [
    "df"
   ]
  },
  {
   "cell_type": "code",
   "execution_count": 30,
   "id": "dbb10c01",
   "metadata": {},
   "outputs": [
    {
     "data": {
      "text/plain": [
       "Index(['tweet_text', 'cyberbullying_type'], dtype='object')"
      ]
     },
     "execution_count": 30,
     "metadata": {},
     "output_type": "execute_result"
    }
   ],
   "source": [
    "df.columns"
   ]
  },
  {
   "cell_type": "code",
   "execution_count": 31,
   "id": "8fe0fded",
   "metadata": {},
   "outputs": [
    {
     "name": "stderr",
     "output_type": "stream",
     "text": [
      "C:\\Users\\himanshu\\AppData\\Local\\Temp\\ipykernel_3232\\1889407831.py:1: SettingWithCopyWarning: \n",
      "A value is trying to be set on a copy of a slice from a DataFrame.\n",
      "Try using .loc[row_indexer,col_indexer] = value instead\n",
      "\n",
      "See the caveats in the documentation: https://pandas.pydata.org/pandas-docs/stable/user_guide/indexing.html#returning-a-view-versus-a-copy\n",
      "  df['length']=df['tweet_text'].apply(len)\n"
     ]
    }
   ],
   "source": [
    "df['length']=df['tweet_text'].apply(len)\n"
   ]
  },
  {
   "cell_type": "code",
   "execution_count": 32,
   "id": "ee57eb74",
   "metadata": {},
   "outputs": [
    {
     "data": {
      "text/html": [
       "<div>\n",
       "<style scoped>\n",
       "    .dataframe tbody tr th:only-of-type {\n",
       "        vertical-align: middle;\n",
       "    }\n",
       "\n",
       "    .dataframe tbody tr th {\n",
       "        vertical-align: top;\n",
       "    }\n",
       "\n",
       "    .dataframe thead th {\n",
       "        text-align: right;\n",
       "    }\n",
       "</style>\n",
       "<table border=\"1\" class=\"dataframe\">\n",
       "  <thead>\n",
       "    <tr style=\"text-align: right;\">\n",
       "      <th></th>\n",
       "      <th>tweet_text</th>\n",
       "      <th>cyberbullying_type</th>\n",
       "      <th>length</th>\n",
       "    </tr>\n",
       "  </thead>\n",
       "  <tbody>\n",
       "    <tr>\n",
       "      <th>0</th>\n",
       "      <td>In other words #katandandre, your food was cra...</td>\n",
       "      <td>not_cyberbullying</td>\n",
       "      <td>61</td>\n",
       "    </tr>\n",
       "    <tr>\n",
       "      <th>1</th>\n",
       "      <td>Why is #aussietv so white? #MKR #theblock #ImA...</td>\n",
       "      <td>not_cyberbullying</td>\n",
       "      <td>115</td>\n",
       "    </tr>\n",
       "    <tr>\n",
       "      <th>2</th>\n",
       "      <td>@XochitlSuckkks a classy whore? Or more red ve...</td>\n",
       "      <td>not_cyberbullying</td>\n",
       "      <td>60</td>\n",
       "    </tr>\n",
       "    <tr>\n",
       "      <th>3</th>\n",
       "      <td>@Jason_Gio meh. :P  thanks for the heads up, b...</td>\n",
       "      <td>not_cyberbullying</td>\n",
       "      <td>103</td>\n",
       "    </tr>\n",
       "    <tr>\n",
       "      <th>4</th>\n",
       "      <td>@RudhoeEnglish This is an ISIS account pretend...</td>\n",
       "      <td>not_cyberbullying</td>\n",
       "      <td>103</td>\n",
       "    </tr>\n",
       "    <tr>\n",
       "      <th>...</th>\n",
       "      <td>...</td>\n",
       "      <td>...</td>\n",
       "      <td>...</td>\n",
       "    </tr>\n",
       "    <tr>\n",
       "      <th>47687</th>\n",
       "      <td>Black ppl aren't expected to do anything, depe...</td>\n",
       "      <td>ethnicity</td>\n",
       "      <td>234</td>\n",
       "    </tr>\n",
       "    <tr>\n",
       "      <th>47688</th>\n",
       "      <td>Turner did not withhold his disappointment. Tu...</td>\n",
       "      <td>ethnicity</td>\n",
       "      <td>276</td>\n",
       "    </tr>\n",
       "    <tr>\n",
       "      <th>47689</th>\n",
       "      <td>I swear to God. This dumb nigger bitch. I have...</td>\n",
       "      <td>ethnicity</td>\n",
       "      <td>104</td>\n",
       "    </tr>\n",
       "    <tr>\n",
       "      <th>47690</th>\n",
       "      <td>Yea fuck you RT @therealexel: IF YOURE A NIGGE...</td>\n",
       "      <td>ethnicity</td>\n",
       "      <td>90</td>\n",
       "    </tr>\n",
       "    <tr>\n",
       "      <th>47691</th>\n",
       "      <td>Bro. U gotta chill RT @CHILLShrammy: Dog FUCK ...</td>\n",
       "      <td>ethnicity</td>\n",
       "      <td>76</td>\n",
       "    </tr>\n",
       "  </tbody>\n",
       "</table>\n",
       "<p>47656 rows × 3 columns</p>\n",
       "</div>"
      ],
      "text/plain": [
       "                                              tweet_text cyberbullying_type  \\\n",
       "0      In other words #katandandre, your food was cra...  not_cyberbullying   \n",
       "1      Why is #aussietv so white? #MKR #theblock #ImA...  not_cyberbullying   \n",
       "2      @XochitlSuckkks a classy whore? Or more red ve...  not_cyberbullying   \n",
       "3      @Jason_Gio meh. :P  thanks for the heads up, b...  not_cyberbullying   \n",
       "4      @RudhoeEnglish This is an ISIS account pretend...  not_cyberbullying   \n",
       "...                                                  ...                ...   \n",
       "47687  Black ppl aren't expected to do anything, depe...          ethnicity   \n",
       "47688  Turner did not withhold his disappointment. Tu...          ethnicity   \n",
       "47689  I swear to God. This dumb nigger bitch. I have...          ethnicity   \n",
       "47690  Yea fuck you RT @therealexel: IF YOURE A NIGGE...          ethnicity   \n",
       "47691  Bro. U gotta chill RT @CHILLShrammy: Dog FUCK ...          ethnicity   \n",
       "\n",
       "       length  \n",
       "0          61  \n",
       "1         115  \n",
       "2          60  \n",
       "3         103  \n",
       "4         103  \n",
       "...       ...  \n",
       "47687     234  \n",
       "47688     276  \n",
       "47689     104  \n",
       "47690      90  \n",
       "47691      76  \n",
       "\n",
       "[47656 rows x 3 columns]"
      ]
     },
     "execution_count": 32,
     "metadata": {},
     "output_type": "execute_result"
    }
   ],
   "source": [
    "df"
   ]
  },
  {
   "cell_type": "code",
   "execution_count": 33,
   "id": "725b38d4",
   "metadata": {},
   "outputs": [
    {
     "data": {
      "text/plain": [
       "<AxesSubplot:xlabel='length', ylabel='Density'>"
      ]
     },
     "execution_count": 33,
     "metadata": {},
     "output_type": "execute_result"
    },
    {
     "data": {
      "image/png": "[encoded data removed]",
      "text/plain": [
       "<Figure size 432x288 with 1 Axes>"
      ]
     },
     "metadata": {
      "needs_background": "light"
     },
     "output_type": "display_data"
    }
   ],
   "source": [
    "sns.kdeplot(x=df['length'],hue=df['cyberbullying_type'])"
   ]
  },
  {
   "cell_type": "code",
   "execution_count": 34,
   "id": "74184655",
   "metadata": {},
   "outputs": [],
   "source": [
    "ps=PorterStemmer()"
   ]
  },
  {
   "cell_type": "code",
   "execution_count": 35,
   "id": "b5bed292",
   "metadata": {},
   "outputs": [],
   "source": [
    "def cleaning_data(text):\n",
    "    text = text.lower() #converts all characters in the text variable to lowercase\n",
    "    text = re.sub(r'@\\S+',\"\",text) #This pattern is commonly used to remove Twitter usernames or any other mentions in the text.\n",
    "    text = re.sub(r'http\\S+','',text)#This pattern is typically used to remove URLs or links from the text.\n",
    "    text = re.sub(r'pic.\\S+','',text) #This pattern is often used to remove picture links or references.\n",
    "    text = re.sub(r'\\d+',\"\",text)# removes any sequences of one or more digits from the text\n",
    "    text = re.sub(r\"[^a-zA-Z']\",' ',text) # It effectively removes any non-alphabetic characters from the text.\n",
    "    text = re.sub(r\"\\s+[a-zA-Z]\\s+\",\" \",text+\" \") # remove isolated single letters that may not provide meaningful information.\n",
    "    text = ''.join([i for i in text if i not in string.punctuation]) #It removes all punctuation marks from the text.\n",
    "    \n",
    "    lis=text.split()\n",
    "    y=[]\n",
    "    for i in lis:\n",
    "        y.append(ps.stem(i))\n",
    "    \n",
    "    return \" \".join(y)\n",
    "    "
   ]
  },
  {
   "cell_type": "code",
   "execution_count": 36,
   "id": "549e2b04",
   "metadata": {},
   "outputs": [
    {
     "name": "stderr",
     "output_type": "stream",
     "text": [
      "C:\\Users\\himanshu\\AppData\\Local\\Temp\\ipykernel_3232\\1637448207.py:1: SettingWithCopyWarning: \n",
      "A value is trying to be set on a copy of a slice from a DataFrame.\n",
      "Try using .loc[row_indexer,col_indexer] = value instead\n",
      "\n",
      "See the caveats in the documentation: https://pandas.pydata.org/pandas-docs/stable/user_guide/indexing.html#returning-a-view-versus-a-copy\n",
      "  df['tweet_text']=df['tweet_text'].apply(cleaning_data)\n"
     ]
    }
   ],
   "source": [
    "df['tweet_text']=df['tweet_text'].apply(cleaning_data)\n"
   ]
  },
  {
   "cell_type": "code",
   "execution_count": 37,
   "id": "4445aceb",
   "metadata": {},
   "outputs": [
    {
     "data": {
      "text/html": [
       "<div>\n",
       "<style scoped>\n",
       "    .dataframe tbody tr th:only-of-type {\n",
       "        vertical-align: middle;\n",
       "    }\n",
       "\n",
       "    .dataframe tbody tr th {\n",
       "        vertical-align: top;\n",
       "    }\n",
       "\n",
       "    .dataframe thead th {\n",
       "        text-align: right;\n",
       "    }\n",
       "</style>\n",
       "<table border=\"1\" class=\"dataframe\">\n",
       "  <thead>\n",
       "    <tr style=\"text-align: right;\">\n",
       "      <th></th>\n",
       "      <th>tweet_text</th>\n",
       "      <th>cyberbullying_type</th>\n",
       "      <th>length</th>\n",
       "    </tr>\n",
       "  </thead>\n",
       "  <tbody>\n",
       "    <tr>\n",
       "      <th>0</th>\n",
       "      <td>in other word katandandr your food wa crapilic...</td>\n",
       "      <td>not_cyberbullying</td>\n",
       "      <td>61</td>\n",
       "    </tr>\n",
       "    <tr>\n",
       "      <th>1</th>\n",
       "      <td>whi is aussietv so white mkr theblock imaceleb...</td>\n",
       "      <td>not_cyberbullying</td>\n",
       "      <td>115</td>\n",
       "    </tr>\n",
       "    <tr>\n",
       "      <th>2</th>\n",
       "      <td>classi whore or more red velvet cupcak</td>\n",
       "      <td>not_cyberbullying</td>\n",
       "      <td>60</td>\n",
       "    </tr>\n",
       "    <tr>\n",
       "      <th>3</th>\n",
       "      <td>meh thank for the head up but not too concern ...</td>\n",
       "      <td>not_cyberbullying</td>\n",
       "      <td>103</td>\n",
       "    </tr>\n",
       "    <tr>\n",
       "      <th>4</th>\n",
       "      <td>thi is an isi account pretend to be kurdish ac...</td>\n",
       "      <td>not_cyberbullying</td>\n",
       "      <td>103</td>\n",
       "    </tr>\n",
       "    <tr>\n",
       "      <th>...</th>\n",
       "      <td>...</td>\n",
       "      <td>...</td>\n",
       "      <td>...</td>\n",
       "    </tr>\n",
       "    <tr>\n",
       "      <th>47687</th>\n",
       "      <td>black ppl arent expect to do anyth depend on f...</td>\n",
       "      <td>ethnicity</td>\n",
       "      <td>234</td>\n",
       "    </tr>\n",
       "    <tr>\n",
       "      <th>47688</th>\n",
       "      <td>turner did not withhold hi disappoint turner c...</td>\n",
       "      <td>ethnicity</td>\n",
       "      <td>276</td>\n",
       "    </tr>\n",
       "    <tr>\n",
       "      <th>47689</th>\n",
       "      <td>i swear to god thi dumb nigger bitch have got ...</td>\n",
       "      <td>ethnicity</td>\n",
       "      <td>104</td>\n",
       "    </tr>\n",
       "    <tr>\n",
       "      <th>47690</th>\n",
       "      <td>yea fuck you rt if your nigger fuck unfollow m...</td>\n",
       "      <td>ethnicity</td>\n",
       "      <td>90</td>\n",
       "    </tr>\n",
       "    <tr>\n",
       "      <th>47691</th>\n",
       "      <td>bro gotta chill rt dog fuck kp that dumb nigge...</td>\n",
       "      <td>ethnicity</td>\n",
       "      <td>76</td>\n",
       "    </tr>\n",
       "  </tbody>\n",
       "</table>\n",
       "<p>47656 rows × 3 columns</p>\n",
       "</div>"
      ],
      "text/plain": [
       "                                              tweet_text cyberbullying_type  \\\n",
       "0      in other word katandandr your food wa crapilic...  not_cyberbullying   \n",
       "1      whi is aussietv so white mkr theblock imaceleb...  not_cyberbullying   \n",
       "2                 classi whore or more red velvet cupcak  not_cyberbullying   \n",
       "3      meh thank for the head up but not too concern ...  not_cyberbullying   \n",
       "4      thi is an isi account pretend to be kurdish ac...  not_cyberbullying   \n",
       "...                                                  ...                ...   \n",
       "47687  black ppl arent expect to do anyth depend on f...          ethnicity   \n",
       "47688  turner did not withhold hi disappoint turner c...          ethnicity   \n",
       "47689  i swear to god thi dumb nigger bitch have got ...          ethnicity   \n",
       "47690  yea fuck you rt if your nigger fuck unfollow m...          ethnicity   \n",
       "47691  bro gotta chill rt dog fuck kp that dumb nigge...          ethnicity   \n",
       "\n",
       "       length  \n",
       "0          61  \n",
       "1         115  \n",
       "2          60  \n",
       "3         103  \n",
       "4         103  \n",
       "...       ...  \n",
       "47687     234  \n",
       "47688     276  \n",
       "47689     104  \n",
       "47690      90  \n",
       "47691      76  \n",
       "\n",
       "[47656 rows x 3 columns]"
      ]
     },
     "execution_count": 37,
     "metadata": {},
     "output_type": "execute_result"
    }
   ],
   "source": [
    "df"
   ]
  },
  {
   "cell_type": "code",
   "execution_count": 38,
   "id": "ec2820a2",
   "metadata": {
    "scrolled": false
   },
   "outputs": [
    {
     "data": {
      "image/png": "[encoded data removed]",
      "text/plain": [
       "<Figure size 720x360 with 1 Axes>"
      ]
     },
     "metadata": {
      "needs_background": "light"
     },
     "output_type": "display_data"
    }
   ],
   "source": [
    "wordcloud = WordCloud(width=800, height=400, background_color='white').generate(' '.join(df['tweet_text']))\n",
    "\n",
    "# Show the word cloud\n",
    "plt.figure(figsize=(10, 5))\n",
    "plt.imshow(wordcloud, interpolation='bilinear')\n",
    "plt.axis('off')\n",
    "plt.show()"
   ]
  },
  {
   "cell_type": "code",
   "execution_count": 39,
   "id": "9054f00b",
   "metadata": {},
   "outputs": [
    {
     "name": "stderr",
     "output_type": "stream",
     "text": [
      "[nltk_data] Downloading package stopwords to\n",
      "[nltk_data]     C:\\Users\\himanshu\\AppData\\Roaming\\nltk_data...\n",
      "[nltk_data]   Package stopwords is already up-to-date!\n"
     ]
    },
    {
     "data": {
      "text/plain": [
       "True"
      ]
     },
     "execution_count": 39,
     "metadata": {},
     "output_type": "execute_result"
    }
   ],
   "source": [
    "nltk.download('stopwords')"
   ]
  },
  {
   "cell_type": "code",
   "execution_count": 40,
   "id": "576ebd44",
   "metadata": {},
   "outputs": [],
   "source": [
    "ps=PorterStemmer()"
   ]
  },
  {
   "cell_type": "markdown",
   "id": "806757f0",
   "metadata": {},
   "source": [
    "# Data Preprocessing"
   ]
  },
  {
   "cell_type": "code",
   "execution_count": 41,
   "id": "d37d621e",
   "metadata": {},
   "outputs": [],
   "source": [
    "word_freq = Counter(' '.join(df['tweet_text']).split())\n"
   ]
  },
  {
   "cell_type": "code",
   "execution_count": 42,
   "id": "d3bae2f1",
   "metadata": {},
   "outputs": [
    {
     "data": {
      "text/plain": [
       "Counter({'in': 15009,\n",
       "         'other': 1729,\n",
       "         'word': 994,\n",
       "         'katandandr': 35,\n",
       "         'your': 5484,\n",
       "         'food': 154,\n",
       "         'wa': 6615,\n",
       "         'crapilici': 1,\n",
       "         'mkr': 2680,\n",
       "         'whi': 2294,\n",
       "         'is': 14219,\n",
       "         'aussietv': 1,\n",
       "         'so': 5121,\n",
       "         'white': 2365,\n",
       "         'theblock': 2,\n",
       "         'imacelebrityau': 4,\n",
       "         'today': 567,\n",
       "         'sunris': 2,\n",
       "         'studio': 8,\n",
       "         'neighbour': 8,\n",
       "         'wonderlandten': 1,\n",
       "         'etc': 423,\n",
       "         'classi': 38,\n",
       "         'whore': 83,\n",
       "         'or': 3581,\n",
       "         'more': 1663,\n",
       "         'red': 123,\n",
       "         'velvet': 4,\n",
       "         'cupcak': 11,\n",
       "         'meh': 20,\n",
       "         'thank': 552,\n",
       "         'for': 8704,\n",
       "         'the': 30970,\n",
       "         'head': 442,\n",
       "         'up': 3270,\n",
       "         'but': 6475,\n",
       "         'not': 7443,\n",
       "         'too': 1253,\n",
       "         'concern': 112,\n",
       "         'about': 5026,\n",
       "         'anoth': 547,\n",
       "         'angri': 128,\n",
       "         'dude': 435,\n",
       "         'on': 6223,\n",
       "         'twitter': 660,\n",
       "         'thi': 6779,\n",
       "         'an': 2756,\n",
       "         'isi': 853,\n",
       "         'account': 270,\n",
       "         'pretend': 118,\n",
       "         'to': 23596,\n",
       "         'be': 8310,\n",
       "         'kurdish': 24,\n",
       "         'like': 6369,\n",
       "         'islam': 2671,\n",
       "         'it': 12826,\n",
       "         'all': 5424,\n",
       "         'lie': 515,\n",
       "         'ye': 708,\n",
       "         'test': 74,\n",
       "         'of': 15368,\n",
       "         'god': 797,\n",
       "         'that': 13297,\n",
       "         'good': 1268,\n",
       "         'bad': 995,\n",
       "         'indiffer': 5,\n",
       "         'weird': 296,\n",
       "         'whatev': 207,\n",
       "         'prove': 163,\n",
       "         'exist': 261,\n",
       "         'itu': 9,\n",
       "         'sekolah': 4,\n",
       "         'ya': 267,\n",
       "         'bukan': 5,\n",
       "         'tempat': 1,\n",
       "         'bulli': 11417,\n",
       "         'ga': 35,\n",
       "         'jauh': 2,\n",
       "         'kaya': 4,\n",
       "         'neraka': 1,\n",
       "         'karma': 85,\n",
       "         'hope': 556,\n",
       "         'bite': 33,\n",
       "         'kat': 603,\n",
       "         'butt': 71,\n",
       "         'she': 3273,\n",
       "         'just': 4609,\n",
       "         'nasti': 111,\n",
       "         'everyth': 374,\n",
       "         'mostli': 130,\n",
       "         'my': 6843,\n",
       "         'priest': 24,\n",
       "         'rebecca': 30,\n",
       "         'black': 2937,\n",
       "         'drop': 150,\n",
       "         'out': 2670,\n",
       "         'school': 9293,\n",
       "         'due': 139,\n",
       "         'flush': 10,\n",
       "         'kd': 1,\n",
       "         'ughhhh': 9,\n",
       "         'rt': 4363,\n",
       "         'turkish': 33,\n",
       "         'state': 394,\n",
       "         'ha': 2090,\n",
       "         'kill': 1258,\n",
       "         'children': 379,\n",
       "         'last': 421,\n",
       "         'year': 1458,\n",
       "         'news': 244,\n",
       "         'googl': 80,\n",
       "         'eviricitoplulu': 1,\n",
       "         'uk': 84,\n",
       "         'eyide': 1,\n",
       "         'love': 1367,\n",
       "         'best': 434,\n",
       "         'respons': 260,\n",
       "         'hotcak': 3,\n",
       "         'they': 5970,\n",
       "         'manag': 92,\n",
       "         'film': 76,\n",
       "         'non': 340,\n",
       "         'committ': 3,\n",
       "         'from': 2981,\n",
       "         'some': 1767,\n",
       "         'adolesc': 2,\n",
       "         'parem': 2,\n",
       "         'de': 245,\n",
       "         'fazer': 10,\n",
       "         'comigo': 12,\n",
       "         'uhahuah': 1,\n",
       "         'bando': 2,\n",
       "         'preto': 1,\n",
       "         'tadinhu': 1,\n",
       "         'mim': 4,\n",
       "         'sofrendo': 25,\n",
       "         'bull': 121,\n",
       "         'viu': 4,\n",
       "         'mimi': 6,\n",
       "         'basic': 220,\n",
       "         'letter': 35,\n",
       "         'our': 1051,\n",
       "         'gener': 270,\n",
       "         'pick': 170,\n",
       "         'line': 206,\n",
       "         'hi': 2050,\n",
       "         'cute': 135,\n",
       "         'how': 2807,\n",
       "         'peopl': 4935,\n",
       "         'call': 4031,\n",
       "         'jame': 46,\n",
       "         'potter': 8,\n",
       "         'mypatronusisy': 1,\n",
       "         'now': 2442,\n",
       "         'gotta': 148,\n",
       "         'walk': 230,\n",
       "         'classss': 1,\n",
       "         'offici': 71,\n",
       "         'hate': 1724,\n",
       "         'stupid': 778,\n",
       "         'bu': 101,\n",
       "         'system': 139,\n",
       "         'know': 2622,\n",
       "         'saudi': 88,\n",
       "         'chase': 29,\n",
       "         'girl': 5595,\n",
       "         'into': 941,\n",
       "         'burn': 137,\n",
       "         'build': 112,\n",
       "         'kid': 1240,\n",
       "         'mohamad': 3,\n",
       "         'bin': 29,\n",
       "         'zay': 1,\n",
       "         'citi': 105,\n",
       "         'i': 3446,\n",
       "         'still': 1455,\n",
       "         'have': 5439,\n",
       "         'jack': 34,\n",
       "         'amsterdam': 1,\n",
       "         'ciroc': 1,\n",
       "         'crown': 9,\n",
       "         'bud': 12,\n",
       "         'light': 110,\n",
       "         'lime': 3,\n",
       "         'rita': 3,\n",
       "         'and': 21717,\n",
       "         'cru': 1,\n",
       "         'handl': 90,\n",
       "         'feel': 984,\n",
       "         'jiggl': 3,\n",
       "         'when': 3365,\n",
       "         'men': 1073,\n",
       "         'are': 9214,\n",
       "         'one': 3795,\n",
       "         'go': 2691,\n",
       "         'push': 160,\n",
       "         'real': 620,\n",
       "         'chang': 494,\n",
       "         'power': 300,\n",
       "         'we': 3345,\n",
       "         'need': 1457,\n",
       "         'their': 2334,\n",
       "         'help': 588,\n",
       "         'wish': 287,\n",
       "         'arena': 13,\n",
       "         'partner': 44,\n",
       "         'gt': 419,\n",
       "         'realli': 1452,\n",
       "         'want': 1960,\n",
       "         'get': 3809,\n",
       "         'pvp': 14,\n",
       "         'happen': 694,\n",
       "         'educ': 244,\n",
       "         'nation': 301,\n",
       "         'turn': 367,\n",
       "         'isso': 61,\n",
       "         'eek': 4,\n",
       "         'cant': 1234,\n",
       "         'stand': 480,\n",
       "         'split': 15,\n",
       "         'keyboard': 21,\n",
       "         'doesnt': 698,\n",
       "         'work': 854,\n",
       "         'well': 911,\n",
       "         'with': 5465,\n",
       "         'mmo': 3,\n",
       "         'post': 570,\n",
       "         'hebdo': 3,\n",
       "         'lol': 1114,\n",
       "         'event': 58,\n",
       "         'daili': 103,\n",
       "         'occurr': 1,\n",
       "         'around': 498,\n",
       "         'world': 891,\n",
       "         'isol': 26,\n",
       "         'you': 19371,\n",
       "         'there': 2259,\n",
       "         'who': 5668,\n",
       "         'dont': 3369,\n",
       "         'listen': 302,\n",
       "         'old': 655,\n",
       "         'first': 1348,\n",
       "         'time': 1843,\n",
       "         'probabl': 332,\n",
       "         'worst': 230,\n",
       "         'though': 357,\n",
       "         'contact': 55,\n",
       "         'form': 116,\n",
       "         'site': 55,\n",
       "         'bug': 39,\n",
       "         'if': 4245,\n",
       "         'use': 1914,\n",
       "         'email': 103,\n",
       "         'subject': 66,\n",
       "         'prefix': 4,\n",
       "         'break': 191,\n",
       "         'silli': 31,\n",
       "         'wordpress': 4,\n",
       "         'thing': 1539,\n",
       "         'uber': 16,\n",
       "         'even': 1687,\n",
       "         'wasnt': 251,\n",
       "         'horribl': 153,\n",
       "         'sexist': 1068,\n",
       "         'shitti': 104,\n",
       "         'compani': 102,\n",
       "         'would': 2105,\n",
       "         'against': 1091,\n",
       "         'think': 2576,\n",
       "         'third': 66,\n",
       "         'period': 89,\n",
       "         'teacher': 330,\n",
       "         'me': 7776,\n",
       "         'he': 4568,\n",
       "         'alway': 868,\n",
       "         'tell': 1081,\n",
       "         'class': 447,\n",
       "         'what': 3982,\n",
       "         'quot': 112,\n",
       "         'off': 1078,\n",
       "         'hand': 259,\n",
       "         'point': 541,\n",
       "         'round': 161,\n",
       "         'humbl': 24,\n",
       "         'cook': 238,\n",
       "         'look': 1734,\n",
       "         'at': 3758,\n",
       "         'dc': 31,\n",
       "         'public': 260,\n",
       "         'do': 4080,\n",
       "         'lgbt': 103,\n",
       "         'student': 245,\n",
       "         'gone': 169,\n",
       "         'miss': 252,\n",
       "         'classmat': 61,\n",
       "         'schoolmat': 6,\n",
       "         'see': 1828,\n",
       "         'soon': 203,\n",
       "         'fuck': 7999,\n",
       "         'promo': 42,\n",
       "         'bring': 228,\n",
       "         'next': 348,\n",
       "         'yeah': 546,\n",
       "         'store': 67,\n",
       "         'bought': 56,\n",
       "         'capsicum': 5,\n",
       "         'hey': 333,\n",
       "         'ma': 67,\n",
       "         'orang': 44,\n",
       "         'skirt': 11,\n",
       "         'paper': 42,\n",
       "         'bullshit': 165,\n",
       "         'eleph': 19,\n",
       "         'direct': 99,\n",
       "         'them': 2764,\n",
       "         'cuntandandr': 28,\n",
       "         'ini': 4,\n",
       "         'salah': 3,\n",
       "         'satu': 3,\n",
       "         'potret': 1,\n",
       "         'dikalangan': 1,\n",
       "         'anak': 8,\n",
       "         'mynameiskhan': 1,\n",
       "         'nowwatch': 1,\n",
       "         'charli': 21,\n",
       "         'brown': 126,\n",
       "         'thanksgiv': 9,\n",
       "         'classic': 62,\n",
       "         'let': 991,\n",
       "         'talk': 1317,\n",
       "         'mean': 1313,\n",
       "         'victim': 402,\n",
       "         'no': 3621,\n",
       "         'ahhhhhmaz': 1,\n",
       "         'lt': 530,\n",
       "         'pois': 1,\n",
       "         'odiei': 1,\n",
       "         'aquilo': 1,\n",
       "         'ele': 13,\n",
       "         'sofria': 7,\n",
       "         'menina': 11,\n",
       "         'porisso': 2,\n",
       "         'matou': 1,\n",
       "         'muita': 2,\n",
       "         'mai': 30,\n",
       "         'mesmo': 7,\n",
       "         'assim': 13,\n",
       "         'aquela': 4,\n",
       "         'crian': 7,\n",
       "         'as': 4699,\n",
       "         'nao': 11,\n",
       "         'tinham': 2,\n",
       "         'culpa': 1,\n",
       "         'ever': 786,\n",
       "         'did': 1363,\n",
       "         'le': 38,\n",
       "         'hace': 13,\n",
       "         'por': 52,\n",
       "         'que': 177,\n",
       "         'se': 130,\n",
       "         'gana': 1,\n",
       "         'en': 47,\n",
       "         'todo': 20,\n",
       "         'lado': 3,\n",
       "         'jajajaj': 1,\n",
       "         'dice': 7,\n",
       "         'lo': 51,\n",
       "         'washiturro': 1,\n",
       "         'son': 217,\n",
       "         'flait': 1,\n",
       "         'jajaj': 1,\n",
       "         'wena': 2,\n",
       "         'kerala': 11,\n",
       "         'rte': 2,\n",
       "         'will': 2374,\n",
       "         'lead': 120,\n",
       "         'shut': 423,\n",
       "         'down': 661,\n",
       "         'badal': 2,\n",
       "         'backward': 34,\n",
       "         'area': 96,\n",
       "         'amp': 2849,\n",
       "         'parent': 285,\n",
       "         'allow': 310,\n",
       "         'join': 151,\n",
       "         'far': 330,\n",
       "         'away': 354,\n",
       "         'perturb': 3,\n",
       "         'women': 1766,\n",
       "         'arent': 364,\n",
       "         'kindli': 23,\n",
       "         'set': 180,\n",
       "         'yourself': 363,\n",
       "         'fire': 189,\n",
       "         'gypsi': 4,\n",
       "         'sorri': 462,\n",
       "         'im': 3585,\n",
       "         'oh': 813,\n",
       "         'should': 1312,\n",
       "         'asham': 63,\n",
       "         'disgust': 685,\n",
       "         'self': 314,\n",
       "         'problem': 524,\n",
       "         'big': 446,\n",
       "         'done': 474,\n",
       "         'wont': 340,\n",
       "         'bother': 101,\n",
       "         'rest': 179,\n",
       "         'pathet': 91,\n",
       "         'shit': 1564,\n",
       "         'show': 847,\n",
       "         'rather': 173,\n",
       "         'funni': 949,\n",
       "         'us': 1213,\n",
       "         'complet': 219,\n",
       "         'differ': 527,\n",
       "         'yet': 356,\n",
       "         'complement': 3,\n",
       "         'each': 255,\n",
       "         'skill': 50,\n",
       "         'hadnt': 8,\n",
       "         'notic': 116,\n",
       "         'save': 207,\n",
       "         'witti': 5,\n",
       "         'repli': 160,\n",
       "         'littl': 504,\n",
       "         'panach': 1,\n",
       "         'abov': 57,\n",
       "         'read': 693,\n",
       "         'level': 145,\n",
       "         'yeap': 11,\n",
       "         'breed': 37,\n",
       "         'violenc': 196,\n",
       "         'onli': 1684,\n",
       "         'faith': 121,\n",
       "         'tweet': 785,\n",
       "         'incoher': 5,\n",
       "         'lil': 151,\n",
       "         'bro': 216,\n",
       "         'night': 245,\n",
       "         'roflmao': 6,\n",
       "         'ive': 647,\n",
       "         'been': 1348,\n",
       "         'tri': 1389,\n",
       "         'squeez': 2,\n",
       "         'logic': 87,\n",
       "         'religi': 254,\n",
       "         'nut': 43,\n",
       "         'crazi': 197,\n",
       "         'kept': 84,\n",
       "         'person': 1030,\n",
       "         'aliv': 86,\n",
       "         'top': 153,\n",
       "         'damag': 53,\n",
       "         'isnt': 524,\n",
       "         'hard': 385,\n",
       "         'follow': 693,\n",
       "         'report': 280,\n",
       "         'brandonmcinerney': 1,\n",
       "         'shoot': 135,\n",
       "         'death': 286,\n",
       "         'larryk': 1,\n",
       "         'trial': 15,\n",
       "         'gay': 4561,\n",
       "         'glbt': 3,\n",
       "         'murder': 481,\n",
       "         'unlik': 69,\n",
       "         'fix': 85,\n",
       "         'car': 123,\n",
       "         'becaus': 2642,\n",
       "         'fit': 118,\n",
       "         'giant': 20,\n",
       "         'swell': 9,\n",
       "         'under': 240,\n",
       "         'daesh': 116,\n",
       "         'distrbut': 1,\n",
       "         'stolen': 28,\n",
       "         'n': 61,\n",
       "         'humanitarian': 10,\n",
       "         'aid': 70,\n",
       "         'own': 625,\n",
       "         'logo': 10,\n",
       "         'iraq': 79,\n",
       "         'twitterkurd': 11,\n",
       "         'idea': 325,\n",
       "         'bean': 29,\n",
       "         'tast': 63,\n",
       "         'assum': 121,\n",
       "         'wait': 334,\n",
       "         'vote': 374,\n",
       "         'again': 609,\n",
       "         'come': 1013,\n",
       "         'back': 1151,\n",
       "         'hoe': 282,\n",
       "         'admit': 115,\n",
       "         'ceo': 16,\n",
       "         'soni': 8,\n",
       "         'europ': 70,\n",
       "         'vehement': 7,\n",
       "         'unequivoc': 6,\n",
       "         'condemn': 111,\n",
       "         'gamerg': 186,\n",
       "         'misogynist': 85,\n",
       "         'harass': 332,\n",
       "         'beatdown': 19,\n",
       "         'afleveringen': 1,\n",
       "         'gedownload': 1,\n",
       "         'van': 19,\n",
       "         'season': 95,\n",
       "         'can': 3025,\n",
       "         'sleep': 120,\n",
       "         'make': 3034,\n",
       "         'ew': 30,\n",
       "         'skin': 270,\n",
       "         'oili': 3,\n",
       "         'day': 1110,\n",
       "         'freaki': 6,\n",
       "         'ass': 2870,\n",
       "         'readi': 107,\n",
       "         'oil': 52,\n",
       "         'clich': 21,\n",
       "         'pay': 240,\n",
       "         'everi': 953,\n",
       "         'open': 270,\n",
       "         'market': 31,\n",
       "         'countri': 866,\n",
       "         'colin': 105,\n",
       "         'hot': 188,\n",
       "         'aposto': 2,\n",
       "         'vou': 17,\n",
       "         'sofrer': 11,\n",
       "         'depoi': 6,\n",
       "         'meu': 25,\n",
       "         'pr': 26,\n",
       "         'ximo': 1,\n",
       "         'where': 948,\n",
       "         'stop': 1219,\n",
       "         'nobodi': 167,\n",
       "         'much': 951,\n",
       "         'drag': 79,\n",
       "         'social': 294,\n",
       "         'start': 784,\n",
       "         'thursday': 20,\n",
       "         'cancel': 94,\n",
       "         'tomorrow': 90,\n",
       "         'tho': 208,\n",
       "         'facebook': 194,\n",
       "         'doe': 746,\n",
       "         'caus': 573,\n",
       "         'promot': 157,\n",
       "         'cyber': 106,\n",
       "         'frio': 17,\n",
       "         'contra': 33,\n",
       "         'os': 36,\n",
       "         'solteiro': 17,\n",
       "         'menino': 8,\n",
       "         'tumblr': 37,\n",
       "         'o': 164,\n",
       "         'eu': 107,\n",
       "         'sou': 10,\n",
       "         'englishman': 1,\n",
       "         'muslim': 4999,\n",
       "         'convert': 110,\n",
       "         'boy': 756,\n",
       "         'gianluca': 1,\n",
       "         'toni': 42,\n",
       "         'ft': 20,\n",
       "         'lunk': 1,\n",
       "         'mum': 56,\n",
       "         'colleg': 222,\n",
       "         'handbag': 2,\n",
       "         'mommmmmmm': 1,\n",
       "         'phinkkk': 1,\n",
       "         'serio': 1,\n",
       "         'falsidad': 1,\n",
       "         'could': 649,\n",
       "         'graduat': 94,\n",
       "         'alreadi': 330,\n",
       "         'sibl': 16,\n",
       "         'sick': 276,\n",
       "         'knew': 224,\n",
       "         'nikki': 91,\n",
       "         'remind': 210,\n",
       "         'someon': 1011,\n",
       "         'stick': 104,\n",
       "         'spotlight': 5,\n",
       "         'honor': 52,\n",
       "         'maddi': 7,\n",
       "         'american': 484,\n",
       "         'eskimo': 1,\n",
       "         'col': 3,\n",
       "         'gio': 2,\n",
       "         'adventista': 1,\n",
       "         'paulo': 2,\n",
       "         'discutem': 1,\n",
       "         'bom': 5,\n",
       "         'dia': 21,\n",
       "         'pratico': 4,\n",
       "         'para': 29,\n",
       "         'ser': 28,\n",
       "         'aceito': 2,\n",
       "         'socialment': 1,\n",
       "         'circl': 30,\n",
       "         'meteor': 1,\n",
       "         'mecca': 10,\n",
       "         'delus': 19,\n",
       "         'pleas': 548,\n",
       "         'rant': 38,\n",
       "         'idiot': 3554,\n",
       "         'hundr': 55,\n",
       "         'christian': 2321,\n",
       "         'singl': 211,\n",
       "         'discript': 1,\n",
       "         'pussi': 177,\n",
       "         'till': 91,\n",
       "         'claro': 6,\n",
       "         'ela': 12,\n",
       "         'pode': 10,\n",
       "         'falar': 5,\n",
       "         'kkkkkkk': 3,\n",
       "         'agora': 21,\n",
       "         'tudo': 2,\n",
       "         'kkk': 56,\n",
       "         'determin': 23,\n",
       "         'feminist': 284,\n",
       "         'mental': 278,\n",
       "         'gg': 84,\n",
       "         'zero': 79,\n",
       "         'awar': 112,\n",
       "         'support': 1690,\n",
       "         'rami': 1,\n",
       "         'complain': 119,\n",
       "         'selfdefens': 1,\n",
       "         'martial': 10,\n",
       "         'art': 85,\n",
       "         'swore': 6,\n",
       "         'raven': 5,\n",
       "         'were': 2128,\n",
       "         'gonna': 459,\n",
       "         'whoop': 15,\n",
       "         'jj': 3,\n",
       "         'watt': 1,\n",
       "         'destroy': 189,\n",
       "         'dozen': 18,\n",
       "         'wit': 118,\n",
       "         'seen': 370,\n",
       "         'russian': 36,\n",
       "         'target': 198,\n",
       "         'civilian': 61,\n",
       "         'propaganda': 117,\n",
       "         'serious': 250,\n",
       "         'wouldnt': 203,\n",
       "         'feed': 65,\n",
       "         'paleo': 19,\n",
       "         'formula': 7,\n",
       "         'newborn': 3,\n",
       "         'twenti': 16,\n",
       "         'vitamin': 4,\n",
       "         'breastmilk': 1,\n",
       "         'anti': 478,\n",
       "         'workshop': 3,\n",
       "         'offer': 67,\n",
       "         'practic': 128,\n",
       "         'legal': 105,\n",
       "         'solut': 50,\n",
       "         'percent': 13,\n",
       "         'nationwid': 2,\n",
       "         'benchmark': 3,\n",
       "         'success': 76,\n",
       "         'team': 257,\n",
       "         'greek': 28,\n",
       "         'door': 56,\n",
       "         'then': 1754,\n",
       "         'confid': 70,\n",
       "         'yo': 317,\n",
       "         'never': 1544,\n",
       "         'recal': 30,\n",
       "         'name': 1003,\n",
       "         'employ': 32,\n",
       "         'might': 278,\n",
       "         'eat': 218,\n",
       "         'her': 2705,\n",
       "         'after': 813,\n",
       "         'receiv': 93,\n",
       "         'great': 367,\n",
       "         'feedback': 9,\n",
       "         'ham': 6,\n",
       "         'gruyer': 2,\n",
       "         'dish': 50,\n",
       "         'tvw': 1,\n",
       "         'win': 204,\n",
       "         'nobel': 5,\n",
       "         'lit': 15,\n",
       "         'shock': 105,\n",
       "         'youll': 96,\n",
       "         'novel': 13,\n",
       "         'speak': 445,\n",
       "         'univers': 84,\n",
       "         'human': 1008,\n",
       "         'experi': 196,\n",
       "         'yupperz': 1,\n",
       "         'honestli': 169,\n",
       "         'kudo': 10,\n",
       "         'abl': 175,\n",
       "         'stretch': 13,\n",
       "         'over': 1068,\n",
       "         'month': 223,\n",
       "         'onto': 36,\n",
       "         'final': 169,\n",
       "         'seem': 363,\n",
       "         'warp': 7,\n",
       "         'view': 167,\n",
       "         'republican': 136,\n",
       "         'late': 116,\n",
       "         'parti': 293,\n",
       "         'majorli': 7,\n",
       "         'shift': 22,\n",
       "         'yazidi': 13,\n",
       "         'escap': 33,\n",
       "         'oajoajoajajo': 1,\n",
       "         'creo': 5,\n",
       "         'hacen': 5,\n",
       "         'porr': 1,\n",
       "         'tomar': 2,\n",
       "         'ojaojaojaoajoajoja': 1,\n",
       "         'lolol': 7,\n",
       "         'whip': 20,\n",
       "         'af': 109,\n",
       "         'ucfpinkparti': 1,\n",
       "         'stay': 292,\n",
       "         'knight': 12,\n",
       "         'earli': 117,\n",
       "         'bird': 38,\n",
       "         'special': 128,\n",
       "         'comeatmeut': 1,\n",
       "         'learn': 365,\n",
       "         'churn': 7,\n",
       "         'job': 314,\n",
       "         'obvious': 119,\n",
       "         'crap': 114,\n",
       "         'lynn': 23,\n",
       "         'guess': 335,\n",
       "         'babyy': 2,\n",
       "         'thought': 536,\n",
       "         'evid': 91,\n",
       "         'intent': 91,\n",
       "         'certain': 104,\n",
       "         'isra': 45,\n",
       "         'boat': 11,\n",
       "         'block': 264,\n",
       "         'list': 152,\n",
       "         'pretti': 509,\n",
       "         'rad': 19,\n",
       "         'sure': 537,\n",
       "         'monday': 44,\n",
       "         'am': 1074,\n",
       "         'boss': 58,\n",
       "         'mood': 28,\n",
       "         'mess': 70,\n",
       "         'schedul': 14,\n",
       "         'driver': 74,\n",
       "         'ran': 70,\n",
       "         'dumpster': 5,\n",
       "         'bottom': 52,\n",
       "         'instant': 105,\n",
       "         'restaur': 114,\n",
       "         'say': 3105,\n",
       "         'ea': 5,\n",
       "         'didnt': 725,\n",
       "         'adamandcarol': 1,\n",
       "         'also': 1226,\n",
       "         'safe': 149,\n",
       "         'bitten': 3,\n",
       "         'by': 3333,\n",
       "         'rabid': 8,\n",
       "         'dog': 293,\n",
       "         'six': 25,\n",
       "         'inch': 10,\n",
       "         'needl': 4,\n",
       "         'belli': 7,\n",
       "         'notalleveryth': 2,\n",
       "         'ongo': 9,\n",
       "         'endless': 21,\n",
       "         'occup': 9,\n",
       "         'anywher': 37,\n",
       "         'minnesota': 15,\n",
       "         'teen': 114,\n",
       "         'adult': 143,\n",
       "         'peer': 42,\n",
       "         'activist': 51,\n",
       "         'reuter': 4,\n",
       "         'barb': 2,\n",
       "         'schroeder': 1,\n",
       "         'smear': 17,\n",
       "         'lemon': 55,\n",
       "         'tart': 57,\n",
       "         'religion': 694,\n",
       "         'microbrain': 47,\n",
       "         'found': 277,\n",
       "         'hole': 51,\n",
       "         'coward': 72,\n",
       "         'baghdadi': 29,\n",
       "         'crawl': 13,\n",
       "         'gwer': 7,\n",
       "         'quran': 703,\n",
       "         'mmmm': 16,\n",
       "         'forget': 219,\n",
       "         'deconstruct': 70,\n",
       "         'theyr': 396,\n",
       "         'hide': 130,\n",
       "         'ani': 1148,\n",
       "         'abil': 45,\n",
       "         'actual': 674,\n",
       "         'take': 1127,\n",
       "         'hour': 122,\n",
       "         'download': 9,\n",
       "         'shelter': 20,\n",
       "         'puppi': 35,\n",
       "         'date': 403,\n",
       "         'uh': 106,\n",
       "         'mani': 897,\n",
       "         'definit': 250,\n",
       "         'myself': 267,\n",
       "         'shyt': 9,\n",
       "         'iono': 1,\n",
       "         'got': 1735,\n",
       "         'hella': 33,\n",
       "         'esp': 24,\n",
       "         'rockstar': 6,\n",
       "         'gta': 5,\n",
       "         're': 861,\n",
       "         'princeofpersia': 1,\n",
       "         'twistedmetalblack': 1,\n",
       "         'extrem': 120,\n",
       "         'rock': 67,\n",
       "         'mic': 12,\n",
       "         'vandal': 18,\n",
       "         'veri': 664,\n",
       "         'least': 226,\n",
       "         'question': 282,\n",
       "         'rais': 153,\n",
       "         'understand': 461,\n",
       "         'industri': 59,\n",
       "         'must': 437,\n",
       "         'choos': 156,\n",
       "         'between': 226,\n",
       "         'incompeten': 2,\n",
       "         'happier': 6,\n",
       "         'financi': 39,\n",
       "         'secur': 68,\n",
       "         'than': 1185,\n",
       "         'paycheck': 9,\n",
       "         'household': 13,\n",
       "         'had': 1525,\n",
       "         'nawwww': 1,\n",
       "         'anni': 80,\n",
       "         'loyd': 3,\n",
       "         'keep': 648,\n",
       "         'later': 209,\n",
       "         'tracki': 1,\n",
       "         'tshirt': 8,\n",
       "         'luckynoonecanseem': 1,\n",
       "         'current': 94,\n",
       "         'inadequ': 3,\n",
       "         'experienc': 36,\n",
       "         'navig': 7,\n",
       "         'these': 1562,\n",
       "         'pitfal': 2,\n",
       "         'child': 310,\n",
       "         'sent': 127,\n",
       "         'sunday': 39,\n",
       "         'forgiv': 71,\n",
       "         'ecu': 1,\n",
       "         'quando': 9,\n",
       "         'voc': 26,\n",
       "         'esta': 10,\n",
       "         'onibu': 1,\n",
       "         'tem': 19,\n",
       "         'um': 88,\n",
       "         'lugar': 1,\n",
       "         'vago': 1,\n",
       "         'seu': 15,\n",
       "         'pessoa': 22,\n",
       "         'preferem': 1,\n",
       "         'ficar': 2,\n",
       "         'em': 137,\n",
       "         'through': 481,\n",
       "         'tough': 70,\n",
       "         'end': 470,\n",
       "         'nsn': 1,\n",
       "         'watch': 772,\n",
       "         'guy': 1219,\n",
       "         'argu': 109,\n",
       "         'scholar': 42,\n",
       "         'here': 999,\n",
       "         'loos': 37,\n",
       "         'employe': 34,\n",
       "         'heard': 232,\n",
       "         'lot': 657,\n",
       "         'intern': 69,\n",
       "         'polit': 272,\n",
       "         'enough': 368,\n",
       "         'serv': 109,\n",
       "         'nigga': 659,\n",
       "         'polic': 322,\n",
       "         'aint': 269,\n",
       "         'tryna': 68,\n",
       "         'trash': 194,\n",
       "         'mock': 113,\n",
       "         'gosh': 40,\n",
       "         'play': 572,\n",
       "         'run': 360,\n",
       "         'tonight': 165,\n",
       "         'soo': 30,\n",
       "         'happi': 289,\n",
       "         'heidi': 2,\n",
       "         'argument': 97,\n",
       "         'everyon': 733,\n",
       "         'nose': 56,\n",
       "         'eyelid': 4,\n",
       "         'surgeri': 17,\n",
       "         'insightsb': 1,\n",
       "         'anyon': 560,\n",
       "         'went': 487,\n",
       "         'church': 167,\n",
       "         'servic': 76,\n",
       "         'morn': 113,\n",
       "         'nurseri': 5,\n",
       "         'longest': 4,\n",
       "         'most': 849,\n",
       "         'unev': 1,\n",
       "         'weekend': 45,\n",
       "         'life': 880,\n",
       "         'came': 251,\n",
       "         'vacat': 10,\n",
       "         'beautifullllll': 1,\n",
       "         'kitchen': 79,\n",
       "         'redempt': 21,\n",
       "         'ypg': 23,\n",
       "         'pesh': 11,\n",
       "         'video': 466,\n",
       "         'truckload': 2,\n",
       "         'bodi': 167,\n",
       "         'promis': 52,\n",
       "         'cool': 287,\n",
       "         'regardless': 63,\n",
       "         'defeat': 28,\n",
       "         'guarante': 21,\n",
       "         'technolog': 10,\n",
       "         'modern': 42,\n",
       "         'war': 316,\n",
       "         'perdonam': 1,\n",
       "         'puedo': 4,\n",
       "         'vivir': 1,\n",
       "         'sin': 71,\n",
       "         'hacer': 12,\n",
       "         'es': 43,\n",
       "         'part': 365,\n",
       "         'mi': 32,\n",
       "         'jajajajaja': 3,\n",
       "         'kevin': 32,\n",
       "         'durant': 3,\n",
       "         'geoff': 2,\n",
       "         'aka': 42,\n",
       "         'dyckman': 2,\n",
       "         'via': 197,\n",
       "         'oigan': 1,\n",
       "         'siento': 1,\n",
       "         'discriminada': 1,\n",
       "         'c': 41,\n",
       "         'aaaag': 1,\n",
       "         'la': 89,\n",
       "         'denunciar': 2,\n",
       "         'xd': 70,\n",
       "         'reasonifailatbeingagirl': 1,\n",
       "         'prefer': 90,\n",
       "         'cowboy': 10,\n",
       "         'bebop': 1,\n",
       "         'made': 1032,\n",
       "         'chelsea': 23,\n",
       "         'rofl': 28,\n",
       "         'kobani': 3,\n",
       "         'answer': 164,\n",
       "         'lost': 189,\n",
       "         'code': 94,\n",
       "         'interpret': 41,\n",
       "         'analyz': 7,\n",
       "         'weight': 106,\n",
       "         'themselv': 291,\n",
       "         'fiddl': 3,\n",
       "         'dou': 6,\n",
       "         'empurr': 12,\n",
       "         'uma': 24,\n",
       "         'chama': 11,\n",
       "         'sociedad': 6,\n",
       "         'simpleasthat': 1,\n",
       "         'instagram': 77,\n",
       "         'total': 225,\n",
       "         'two': 455,\n",
       "         'breast': 11,\n",
       "         ...})"
      ]
     },
     "execution_count": 42,
     "metadata": {},
     "output_type": "execute_result"
    }
   ],
   "source": [
    "word_freq"
   ]
  },
  {
   "cell_type": "code",
   "execution_count": 43,
   "id": "d5a0ed83",
   "metadata": {},
   "outputs": [],
   "source": [
    "word_freq_df = pd.DataFrame.from_dict(word_freq, orient='index', columns=['count']).reset_index()\n"
   ]
  },
  {
   "cell_type": "code",
   "execution_count": 44,
   "id": "1a1f032a",
   "metadata": {},
   "outputs": [],
   "source": [
    "word_freq_df = word_freq_df.rename(columns={'index': 'word'})\n"
   ]
  },
  {
   "cell_type": "code",
   "execution_count": 45,
   "id": "8176af7e",
   "metadata": {},
   "outputs": [],
   "source": [
    "word_freq_df = word_freq_df.sort_values(by='count', ascending=False)\n"
   ]
  },
  {
   "cell_type": "code",
   "execution_count": 46,
   "id": "3637c19c",
   "metadata": {},
   "outputs": [
    {
     "data": {
      "text/html": [
       "<div>\n",
       "<style scoped>\n",
       "    .dataframe tbody tr th:only-of-type {\n",
       "        vertical-align: middle;\n",
       "    }\n",
       "\n",
       "    .dataframe tbody tr th {\n",
       "        vertical-align: top;\n",
       "    }\n",
       "\n",
       "    .dataframe thead th {\n",
       "        text-align: right;\n",
       "    }\n",
       "</style>\n",
       "<table border=\"1\" class=\"dataframe\">\n",
       "  <thead>\n",
       "    <tr style=\"text-align: right;\">\n",
       "      <th></th>\n",
       "      <th>word</th>\n",
       "      <th>count</th>\n",
       "    </tr>\n",
       "  </thead>\n",
       "  <tbody>\n",
       "    <tr>\n",
       "      <th>32</th>\n",
       "      <td>the</td>\n",
       "      <td>30970</td>\n",
       "    </tr>\n",
       "    <tr>\n",
       "      <th>50</th>\n",
       "      <td>to</td>\n",
       "      <td>23596</td>\n",
       "    </tr>\n",
       "    <tr>\n",
       "      <th>185</th>\n",
       "      <td>and</td>\n",
       "      <td>21717</td>\n",
       "    </tr>\n",
       "    <tr>\n",
       "      <th>235</th>\n",
       "      <td>you</td>\n",
       "      <td>19371</td>\n",
       "    </tr>\n",
       "    <tr>\n",
       "      <th>60</th>\n",
       "      <td>of</td>\n",
       "      <td>15368</td>\n",
       "    </tr>\n",
       "    <tr>\n",
       "      <th>...</th>\n",
       "      <td>...</td>\n",
       "      <td>...</td>\n",
       "    </tr>\n",
       "    <tr>\n",
       "      <th>7618</th>\n",
       "      <td>absinth</td>\n",
       "      <td>1</td>\n",
       "    </tr>\n",
       "    <tr>\n",
       "      <th>19244</th>\n",
       "      <td>dawah</td>\n",
       "      <td>1</td>\n",
       "    </tr>\n",
       "    <tr>\n",
       "      <th>19245</th>\n",
       "      <td>narccist</td>\n",
       "      <td>1</td>\n",
       "    </tr>\n",
       "    <tr>\n",
       "      <th>19246</th>\n",
       "      <td>neophyt</td>\n",
       "      <td>1</td>\n",
       "    </tr>\n",
       "    <tr>\n",
       "      <th>30552</th>\n",
       "      <td>reeeeeal</td>\n",
       "      <td>1</td>\n",
       "    </tr>\n",
       "  </tbody>\n",
       "</table>\n",
       "<p>30553 rows × 2 columns</p>\n",
       "</div>"
      ],
      "text/plain": [
       "           word  count\n",
       "32          the  30970\n",
       "50           to  23596\n",
       "185         and  21717\n",
       "235         you  19371\n",
       "60           of  15368\n",
       "...         ...    ...\n",
       "7618    absinth      1\n",
       "19244     dawah      1\n",
       "19245  narccist      1\n",
       "19246   neophyt      1\n",
       "30552  reeeeeal      1\n",
       "\n",
       "[30553 rows x 2 columns]"
      ]
     },
     "execution_count": 46,
     "metadata": {},
     "output_type": "execute_result"
    }
   ],
   "source": [
    "word_freq_df"
   ]
  },
  {
   "cell_type": "code",
   "execution_count": 47,
   "id": "362ea974",
   "metadata": {},
   "outputs": [
    {
     "data": {
      "text/plain": [
       "<AxesSubplot:xlabel='word', ylabel='count'>"
      ]
     },
     "execution_count": 47,
     "metadata": {},
     "output_type": "execute_result"
    },
    {
     "data": {
      "image/png": "[encoded data removed]",
      "text/plain": [
       "<Figure size 432x288 with 1 Axes>"
      ]
     },
     "metadata": {
      "needs_background": "light"
     },
     "output_type": "display_data"
    }
   ],
   "source": [
    "sns.barplot(x=word_freq_df['word'][:20],y=word_freq_df['count'][:20])"
   ]
  },
  {
   "cell_type": "code",
   "execution_count": 48,
   "id": "32a79fcb",
   "metadata": {},
   "outputs": [
    {
     "data": {
      "text/html": [
       "<div>\n",
       "<style scoped>\n",
       "    .dataframe tbody tr th:only-of-type {\n",
       "        vertical-align: middle;\n",
       "    }\n",
       "\n",
       "    .dataframe tbody tr th {\n",
       "        vertical-align: top;\n",
       "    }\n",
       "\n",
       "    .dataframe thead th {\n",
       "        text-align: right;\n",
       "    }\n",
       "</style>\n",
       "<table border=\"1\" class=\"dataframe\">\n",
       "  <thead>\n",
       "    <tr style=\"text-align: right;\">\n",
       "      <th></th>\n",
       "      <th>tweet_text</th>\n",
       "      <th>cyberbullying_type</th>\n",
       "      <th>length</th>\n",
       "    </tr>\n",
       "  </thead>\n",
       "  <tbody>\n",
       "    <tr>\n",
       "      <th>0</th>\n",
       "      <td>in other word katandandr your food wa crapilic...</td>\n",
       "      <td>not_cyberbullying</td>\n",
       "      <td>61</td>\n",
       "    </tr>\n",
       "    <tr>\n",
       "      <th>1</th>\n",
       "      <td>whi is aussietv so white mkr theblock imaceleb...</td>\n",
       "      <td>not_cyberbullying</td>\n",
       "      <td>115</td>\n",
       "    </tr>\n",
       "    <tr>\n",
       "      <th>2</th>\n",
       "      <td>classi whore or more red velvet cupcak</td>\n",
       "      <td>not_cyberbullying</td>\n",
       "      <td>60</td>\n",
       "    </tr>\n",
       "    <tr>\n",
       "      <th>3</th>\n",
       "      <td>meh thank for the head up but not too concern ...</td>\n",
       "      <td>not_cyberbullying</td>\n",
       "      <td>103</td>\n",
       "    </tr>\n",
       "    <tr>\n",
       "      <th>4</th>\n",
       "      <td>thi is an isi account pretend to be kurdish ac...</td>\n",
       "      <td>not_cyberbullying</td>\n",
       "      <td>103</td>\n",
       "    </tr>\n",
       "    <tr>\n",
       "      <th>...</th>\n",
       "      <td>...</td>\n",
       "      <td>...</td>\n",
       "      <td>...</td>\n",
       "    </tr>\n",
       "    <tr>\n",
       "      <th>47687</th>\n",
       "      <td>black ppl arent expect to do anyth depend on f...</td>\n",
       "      <td>ethnicity</td>\n",
       "      <td>234</td>\n",
       "    </tr>\n",
       "    <tr>\n",
       "      <th>47688</th>\n",
       "      <td>turner did not withhold hi disappoint turner c...</td>\n",
       "      <td>ethnicity</td>\n",
       "      <td>276</td>\n",
       "    </tr>\n",
       "    <tr>\n",
       "      <th>47689</th>\n",
       "      <td>i swear to god thi dumb nigger bitch have got ...</td>\n",
       "      <td>ethnicity</td>\n",
       "      <td>104</td>\n",
       "    </tr>\n",
       "    <tr>\n",
       "      <th>47690</th>\n",
       "      <td>yea fuck you rt if your nigger fuck unfollow m...</td>\n",
       "      <td>ethnicity</td>\n",
       "      <td>90</td>\n",
       "    </tr>\n",
       "    <tr>\n",
       "      <th>47691</th>\n",
       "      <td>bro gotta chill rt dog fuck kp that dumb nigge...</td>\n",
       "      <td>ethnicity</td>\n",
       "      <td>76</td>\n",
       "    </tr>\n",
       "  </tbody>\n",
       "</table>\n",
       "<p>47656 rows × 3 columns</p>\n",
       "</div>"
      ],
      "text/plain": [
       "                                              tweet_text cyberbullying_type  \\\n",
       "0      in other word katandandr your food wa crapilic...  not_cyberbullying   \n",
       "1      whi is aussietv so white mkr theblock imaceleb...  not_cyberbullying   \n",
       "2                 classi whore or more red velvet cupcak  not_cyberbullying   \n",
       "3      meh thank for the head up but not too concern ...  not_cyberbullying   \n",
       "4      thi is an isi account pretend to be kurdish ac...  not_cyberbullying   \n",
       "...                                                  ...                ...   \n",
       "47687  black ppl arent expect to do anyth depend on f...          ethnicity   \n",
       "47688  turner did not withhold hi disappoint turner c...          ethnicity   \n",
       "47689  i swear to god thi dumb nigger bitch have got ...          ethnicity   \n",
       "47690  yea fuck you rt if your nigger fuck unfollow m...          ethnicity   \n",
       "47691  bro gotta chill rt dog fuck kp that dumb nigge...          ethnicity   \n",
       "\n",
       "       length  \n",
       "0          61  \n",
       "1         115  \n",
       "2          60  \n",
       "3         103  \n",
       "4         103  \n",
       "...       ...  \n",
       "47687     234  \n",
       "47688     276  \n",
       "47689     104  \n",
       "47690      90  \n",
       "47691      76  \n",
       "\n",
       "[47656 rows x 3 columns]"
      ]
     },
     "execution_count": 48,
     "metadata": {},
     "output_type": "execute_result"
    }
   ],
   "source": [
    "df"
   ]
  },
  {
   "cell_type": "code",
   "execution_count": 49,
   "id": "21f18082",
   "metadata": {},
   "outputs": [],
   "source": [
    "le=LabelEncoder()"
   ]
  },
  {
   "cell_type": "code",
   "execution_count": 50,
   "id": "6b49d32b",
   "metadata": {},
   "outputs": [],
   "source": [
    "X=df['tweet_text']"
   ]
  },
  {
   "cell_type": "code",
   "execution_count": 51,
   "id": "71ad883e",
   "metadata": {},
   "outputs": [],
   "source": [
    "y=le.fit_transform(df['cyberbullying_type'])"
   ]
  },
  {
   "cell_type": "code",
   "execution_count": 52,
   "id": "8c548d9d",
   "metadata": {},
   "outputs": [
    {
     "data": {
      "text/plain": [
       "0        in other word katandandr your food wa crapilic...\n",
       "1        whi is aussietv so white mkr theblock imaceleb...\n",
       "2                   classi whore or more red velvet cupcak\n",
       "3        meh thank for the head up but not too concern ...\n",
       "4        thi is an isi account pretend to be kurdish ac...\n",
       "                               ...                        \n",
       "47687    black ppl arent expect to do anyth depend on f...\n",
       "47688    turner did not withhold hi disappoint turner c...\n",
       "47689    i swear to god thi dumb nigger bitch have got ...\n",
       "47690    yea fuck you rt if your nigger fuck unfollow m...\n",
       "47691    bro gotta chill rt dog fuck kp that dumb nigge...\n",
       "Name: tweet_text, Length: 47656, dtype: object"
      ]
     },
     "execution_count": 52,
     "metadata": {},
     "output_type": "execute_result"
    }
   ],
   "source": [
    "X"
   ]
  },
  {
   "cell_type": "code",
   "execution_count": 53,
   "id": "1f4ae835",
   "metadata": {},
   "outputs": [
    {
     "data": {
      "text/plain": [
       "array([3, 3, 3, ..., 1, 1, 1])"
      ]
     },
     "execution_count": 53,
     "metadata": {},
     "output_type": "execute_result"
    }
   ],
   "source": [
    "y"
   ]
  },
  {
   "cell_type": "code",
   "execution_count": 54,
   "id": "2c1edfb9",
   "metadata": {},
   "outputs": [],
   "source": [
    "X_train, X_test, y_train, y_test = train_test_split(X, y, test_size=0.33, random_state=42)\n"
   ]
  },
  {
   "cell_type": "code",
   "execution_count": 55,
   "id": "aa03b077",
   "metadata": {},
   "outputs": [],
   "source": [
    "tdidf_Vectorizer=TfidfVectorizer(max_features=30000)\n"
   ]
  },
  {
   "cell_type": "code",
   "execution_count": 56,
   "id": "3ea68379",
   "metadata": {},
   "outputs": [
    {
     "data": {
      "text/plain": [
       "TfidfVectorizer(max_features=30000)"
      ]
     },
     "execution_count": 56,
     "metadata": {},
     "output_type": "execute_result"
    }
   ],
   "source": [
    "tdidf_Vectorizer"
   ]
  },
  {
   "cell_type": "code",
   "execution_count": 57,
   "id": "bf93b239",
   "metadata": {},
   "outputs": [],
   "source": [
    "# Fiting and transforming the training data\n"
   ]
  },
  {
   "cell_type": "code",
   "execution_count": 58,
   "id": "16a68b7a",
   "metadata": {},
   "outputs": [],
   "source": [
    "X_train_tfidf=tdidf_Vectorizer.fit_transform(X_train)"
   ]
  },
  {
   "cell_type": "code",
   "execution_count": 59,
   "id": "e21408c0",
   "metadata": {},
   "outputs": [
    {
     "data": {
      "text/plain": [
       "<31929x24493 sparse matrix of type '<class 'numpy.float64'>'\n",
       "\twith 618186 stored elements in Compressed Sparse Row format>"
      ]
     },
     "execution_count": 59,
     "metadata": {},
     "output_type": "execute_result"
    }
   ],
   "source": [
    "X_train_tfidf"
   ]
  },
  {
   "cell_type": "code",
   "execution_count": 60,
   "id": "2a3f8ea1",
   "metadata": {},
   "outputs": [],
   "source": [
    "# Transforming the testing data\n"
   ]
  },
  {
   "cell_type": "code",
   "execution_count": 61,
   "id": "c0c6cde8",
   "metadata": {},
   "outputs": [],
   "source": [
    "X_test_tfidf=tdidf_Vectorizer.transform(X_test)"
   ]
  },
  {
   "cell_type": "code",
   "execution_count": 62,
   "id": "a9237f51",
   "metadata": {},
   "outputs": [
    {
     "data": {
      "text/plain": [
       "<15727x24493 sparse matrix of type '<class 'numpy.float64'>'\n",
       "\twith 296207 stored elements in Compressed Sparse Row format>"
      ]
     },
     "execution_count": 62,
     "metadata": {},
     "output_type": "execute_result"
    }
   ],
   "source": [
    "X_test_tfidf"
   ]
  },
  {
   "cell_type": "code",
   "execution_count": 63,
   "id": "f11f813d",
   "metadata": {},
   "outputs": [
    {
     "data": {
      "text/plain": [
       "array([2, 1, 3, ..., 0, 3, 2])"
      ]
     },
     "execution_count": 63,
     "metadata": {},
     "output_type": "execute_result"
    }
   ],
   "source": [
    "y_train"
   ]
  },
  {
   "cell_type": "code",
   "execution_count": 64,
   "id": "65e58087",
   "metadata": {},
   "outputs": [],
   "source": [
    "def predict_emotion(ele):\n",
    "    ele=[ele]\n",
    "    input_tfidf=tdidf_Vectorizer.transform(ele)\n",
    "    predicted_label=rfc.predict(input_tfidf)\n",
    "    predicted_emotion=le.inverse_transform(predicted_label)\n",
    "    return predicted_emotion"
   ]
  },
  {
   "cell_type": "markdown",
   "id": "f4732e84",
   "metadata": {},
   "source": [
    "# RandomForestClassifier"
   ]
  },
  {
   "cell_type": "code",
   "execution_count": 65,
   "id": "b11ae2e0",
   "metadata": {},
   "outputs": [],
   "source": [
    "rfc=RandomForestClassifier()\n"
   ]
  },
  {
   "cell_type": "code",
   "execution_count": 66,
   "id": "2c84fcb0",
   "metadata": {},
   "outputs": [
    {
     "data": {
      "text/plain": [
       "RandomForestClassifier()"
      ]
     },
     "execution_count": 66,
     "metadata": {},
     "output_type": "execute_result"
    }
   ],
   "source": [
    "rfc.fit(X_train_tfidf,y_train)"
   ]
  },
  {
   "cell_type": "code",
   "execution_count": 67,
   "id": "eba905d4",
   "metadata": {},
   "outputs": [],
   "source": [
    "y_pred=rfc.predict(X_train_tfidf)\n"
   ]
  },
  {
   "cell_type": "code",
   "execution_count": 68,
   "id": "9f90cf31",
   "metadata": {},
   "outputs": [
    {
     "data": {
      "text/plain": [
       "0.9731278774781547"
      ]
     },
     "execution_count": 68,
     "metadata": {},
     "output_type": "execute_result"
    }
   ],
   "source": [
    "accuracy_score(y_train,y_pred)"
   ]
  },
  {
   "cell_type": "code",
   "execution_count": 69,
   "id": "66ee6b8d",
   "metadata": {},
   "outputs": [],
   "source": [
    "y_pred=rfc.predict(X_test_tfidf)\n"
   ]
  },
  {
   "cell_type": "code",
   "execution_count": 70,
   "id": "24949b7a",
   "metadata": {},
   "outputs": [
    {
     "data": {
      "text/plain": [
       "0.811979398486679"
      ]
     },
     "execution_count": 70,
     "metadata": {},
     "output_type": "execute_result"
    }
   ],
   "source": [
    "accuracy_score(y_test,y_pred)"
   ]
  },
  {
   "cell_type": "code",
   "execution_count": 71,
   "id": "70b2a0fa",
   "metadata": {},
   "outputs": [],
   "source": [
    "cm=confusion_matrix(y_test,y_pred)"
   ]
  },
  {
   "cell_type": "code",
   "execution_count": 72,
   "id": "8717becd",
   "metadata": {},
   "outputs": [
    {
     "data": {
      "text/plain": [
       "<AxesSubplot:>"
      ]
     },
     "execution_count": 72,
     "metadata": {},
     "output_type": "execute_result"
    },
    {
     "data": {
      "image/png": "[encoded data removed]",
      "text/plain": [
       "<Figure size 432x288 with 2 Axes>"
      ]
     },
     "metadata": {
      "needs_background": "light"
     },
     "output_type": "display_data"
    }
   ],
   "source": [
    "sns.heatmap(data=cm,fmt='d',annot=True)"
   ]
  },
  {
   "cell_type": "code",
   "execution_count": 73,
   "id": "14fbaed0",
   "metadata": {},
   "outputs": [
    {
     "name": "stdout",
     "output_type": "stream",
     "text": [
      "              precision    recall  f1-score   support\n",
      "\n",
      "           0       0.95      0.99      0.97      2625\n",
      "           1       0.99      0.98      0.99      2626\n",
      "           2       0.91      0.80      0.85      2580\n",
      "           3       0.58      0.48      0.52      2718\n",
      "           4       0.53      0.67      0.60      2557\n",
      "           5       0.94      0.96      0.95      2621\n",
      "\n",
      "    accuracy                           0.81     15727\n",
      "   macro avg       0.82      0.81      0.81     15727\n",
      "weighted avg       0.82      0.81      0.81     15727\n",
      "\n"
     ]
    }
   ],
   "source": [
    "print(classification_report(y_test,y_pred))"
   ]
  },
  {
   "cell_type": "code",
   "execution_count": null,
   "id": "defb0759",
   "metadata": {},
   "outputs": [],
   "source": []
  },
  {
   "cell_type": "code",
   "execution_count": 74,
   "id": "ea8196f2",
   "metadata": {},
   "outputs": [
    {
     "name": "stdout",
     "output_type": "stream",
     "text": [
      "Enter a comment@Jord_Is_Dead http://t.co/UsQInYW5Gn\n"
     ]
    }
   ],
   "source": [
    "user_input=input(\"Enter a comment\")\n"
   ]
  },
  {
   "cell_type": "code",
   "execution_count": 75,
   "id": "328915f3",
   "metadata": {},
   "outputs": [],
   "source": [
    "emotion=predict_emotion(user_input)\n"
   ]
  },
  {
   "cell_type": "code",
   "execution_count": 76,
   "id": "b71e5046",
   "metadata": {},
   "outputs": [
    {
     "name": "stdout",
     "output_type": "stream",
     "text": [
      "['other_cyberbullying']\n"
     ]
    }
   ],
   "source": [
    "print(emotion)"
   ]
  },
  {
   "cell_type": "markdown",
   "id": "08db668f",
   "metadata": {},
   "source": [
    "# LogisticRegression"
   ]
  },
  {
   "cell_type": "code",
   "execution_count": 77,
   "id": "04dac94f",
   "metadata": {},
   "outputs": [],
   "source": [
    "lr=LogisticRegression()\n",
    "\n"
   ]
  },
  {
   "cell_type": "code",
   "execution_count": 78,
   "id": "ef28f92c",
   "metadata": {},
   "outputs": [
    {
     "name": "stderr",
     "output_type": "stream",
     "text": [
      "C:\\Users\\himanshu\\anaconda3\\lib\\site-packages\\sklearn\\linear_model\\_logistic.py:814: ConvergenceWarning: lbfgs failed to converge (status=1):\n",
      "STOP: TOTAL NO. of ITERATIONS REACHED LIMIT.\n",
      "\n",
      "Increase the number of iterations (max_iter) or scale the data as shown in:\n",
      "    https://scikit-learn.org/stable/modules/preprocessing.html\n",
      "Please also refer to the documentation for alternative solver options:\n",
      "    https://scikit-learn.org/stable/modules/linear_model.html#logistic-regression\n",
      "  n_iter_i = _check_optimize_result(\n"
     ]
    },
    {
     "data": {
      "text/plain": [
       "LogisticRegression()"
      ]
     },
     "execution_count": 78,
     "metadata": {},
     "output_type": "execute_result"
    }
   ],
   "source": [
    "lr.fit(X_train_tfidf,y_train)"
   ]
  },
  {
   "cell_type": "code",
   "execution_count": 79,
   "id": "a55d4d42",
   "metadata": {},
   "outputs": [],
   "source": [
    "y_pred=lr.predict(X_train_tfidf)\n"
   ]
  },
  {
   "cell_type": "code",
   "execution_count": 80,
   "id": "1f27430e",
   "metadata": {},
   "outputs": [
    {
     "data": {
      "text/plain": [
       "0.893106580224874"
      ]
     },
     "execution_count": 80,
     "metadata": {},
     "output_type": "execute_result"
    }
   ],
   "source": [
    "accuracy_score(y_train,y_pred)"
   ]
  },
  {
   "cell_type": "code",
   "execution_count": 81,
   "id": "46cd0954",
   "metadata": {},
   "outputs": [],
   "source": [
    "y_pred=lr.predict(X_test_tfidf)\n"
   ]
  },
  {
   "cell_type": "code",
   "execution_count": 82,
   "id": "e52fa8f1",
   "metadata": {},
   "outputs": [
    {
     "data": {
      "text/plain": [
       "0.8252050613594455"
      ]
     },
     "execution_count": 82,
     "metadata": {},
     "output_type": "execute_result"
    }
   ],
   "source": [
    "accuracy_score(y_test,y_pred)"
   ]
  },
  {
   "cell_type": "code",
   "execution_count": 83,
   "id": "c07e5bdc",
   "metadata": {},
   "outputs": [],
   "source": [
    "cm=confusion_matrix(y_test,y_pred)"
   ]
  },
  {
   "cell_type": "code",
   "execution_count": 84,
   "id": "22ef05d9",
   "metadata": {},
   "outputs": [
    {
     "data": {
      "text/plain": [
       "<AxesSubplot:>"
      ]
     },
     "execution_count": 84,
     "metadata": {},
     "output_type": "execute_result"
    },
    {
     "data": {
      "image/png": "[encoded data removed]",
      "text/plain": [
       "<Figure size 432x288 with 2 Axes>"
      ]
     },
     "metadata": {
      "needs_background": "light"
     },
     "output_type": "display_data"
    }
   ],
   "source": [
    "sns.heatmap(data=cm,fmt='d',annot=True)"
   ]
  },
  {
   "cell_type": "code",
   "execution_count": 85,
   "id": "8af0ae04",
   "metadata": {},
   "outputs": [
    {
     "name": "stdout",
     "output_type": "stream",
     "text": [
      "              precision    recall  f1-score   support\n",
      "\n",
      "           0       0.94      0.98      0.96      2625\n",
      "           1       0.98      0.98      0.98      2626\n",
      "           2       0.91      0.83      0.86      2580\n",
      "           3       0.61      0.55      0.58      2718\n",
      "           4       0.59      0.67      0.62      2557\n",
      "           5       0.94      0.96      0.95      2621\n",
      "\n",
      "    accuracy                           0.83     15727\n",
      "   macro avg       0.83      0.83      0.83     15727\n",
      "weighted avg       0.83      0.83      0.83     15727\n",
      "\n"
     ]
    }
   ],
   "source": [
    "print(classification_report(y_test,y_pred))"
   ]
  },
  {
   "cell_type": "code",
   "execution_count": null,
   "id": "1d6ba87f",
   "metadata": {},
   "outputs": [],
   "source": []
  },
  {
   "cell_type": "code",
   "execution_count": 86,
   "id": "27ff51b0",
   "metadata": {},
   "outputs": [
    {
     "name": "stdout",
     "output_type": "stream",
     "text": [
      "Enter a comment##GoogleÇeviriciTopluluğuKürtçeyideE…\n"
     ]
    }
   ],
   "source": [
    "user_input=input(\"Enter a comment\")\n"
   ]
  },
  {
   "cell_type": "code",
   "execution_count": 87,
   "id": "13836d1d",
   "metadata": {},
   "outputs": [],
   "source": [
    "emotion=predict_emotion(user_input)\n"
   ]
  },
  {
   "cell_type": "code",
   "execution_count": 88,
   "id": "e8422a09",
   "metadata": {},
   "outputs": [
    {
     "name": "stdout",
     "output_type": "stream",
     "text": [
      "['other_cyberbullying']\n"
     ]
    }
   ],
   "source": [
    "print(emotion)"
   ]
  },
  {
   "cell_type": "markdown",
   "id": "e84df39b",
   "metadata": {},
   "source": [
    "# KNeighborsClassifier"
   ]
  },
  {
   "cell_type": "code",
   "execution_count": 89,
   "id": "e62f4ec3",
   "metadata": {},
   "outputs": [],
   "source": [
    "knc=KNeighborsClassifier()\n"
   ]
  },
  {
   "cell_type": "code",
   "execution_count": 90,
   "id": "5c1516a8",
   "metadata": {},
   "outputs": [
    {
     "data": {
      "text/plain": [
       "KNeighborsClassifier()"
      ]
     },
     "execution_count": 90,
     "metadata": {},
     "output_type": "execute_result"
    }
   ],
   "source": [
    "knc.fit(X_train_tfidf,y_train)"
   ]
  },
  {
   "cell_type": "code",
   "execution_count": 91,
   "id": "9ea46735",
   "metadata": {},
   "outputs": [],
   "source": [
    "y_pred=knc.predict(X_train_tfidf)\n"
   ]
  },
  {
   "cell_type": "code",
   "execution_count": 92,
   "id": "271a22b4",
   "metadata": {},
   "outputs": [
    {
     "data": {
      "text/plain": [
       "0.35055905289861883"
      ]
     },
     "execution_count": 92,
     "metadata": {},
     "output_type": "execute_result"
    }
   ],
   "source": [
    "accuracy_score(y_train,y_pred)"
   ]
  },
  {
   "cell_type": "code",
   "execution_count": 93,
   "id": "8cfe2a9a",
   "metadata": {},
   "outputs": [],
   "source": [
    "y_pred=knc.predict(X_test_tfidf)\n"
   ]
  },
  {
   "cell_type": "code",
   "execution_count": 94,
   "id": "f71e31f1",
   "metadata": {},
   "outputs": [
    {
     "data": {
      "text/plain": [
       "0.2533858968652636"
      ]
     },
     "execution_count": 94,
     "metadata": {},
     "output_type": "execute_result"
    }
   ],
   "source": [
    "accuracy_score(y_test,y_pred)"
   ]
  },
  {
   "cell_type": "code",
   "execution_count": 95,
   "id": "cbbbd448",
   "metadata": {},
   "outputs": [],
   "source": [
    "cm=confusion_matrix(y_test,y_pred)"
   ]
  },
  {
   "cell_type": "code",
   "execution_count": 96,
   "id": "583f7df2",
   "metadata": {},
   "outputs": [
    {
     "data": {
      "text/plain": [
       "<AxesSubplot:>"
      ]
     },
     "execution_count": 96,
     "metadata": {},
     "output_type": "execute_result"
    },
    {
     "data": {
      "image/png": "[encoded data removed]",
      "text/plain": [
       "<Figure size 432x288 with 2 Axes>"
      ]
     },
     "metadata": {
      "needs_background": "light"
     },
     "output_type": "display_data"
    }
   ],
   "source": [
    "sns.heatmap(data=cm,fmt='d',annot=True)"
   ]
  },
  {
   "cell_type": "code",
   "execution_count": 97,
   "id": "1a332b2c",
   "metadata": {},
   "outputs": [
    {
     "name": "stdout",
     "output_type": "stream",
     "text": [
      "              precision    recall  f1-score   support\n",
      "\n",
      "           0       0.97      0.09      0.16      2625\n",
      "           1       0.98      0.28      0.43      2626\n",
      "           2       0.52      0.17      0.25      2580\n",
      "           3       0.21      0.35      0.26      2718\n",
      "           4       0.17      0.62      0.27      2557\n",
      "           5       0.95      0.03      0.05      2621\n",
      "\n",
      "    accuracy                           0.25     15727\n",
      "   macro avg       0.63      0.25      0.24     15727\n",
      "weighted avg       0.63      0.25      0.24     15727\n",
      "\n"
     ]
    }
   ],
   "source": [
    "print(classification_report(y_test,y_pred))"
   ]
  },
  {
   "cell_type": "code",
   "execution_count": 98,
   "id": "f7f404d3",
   "metadata": {},
   "outputs": [
    {
     "name": "stdout",
     "output_type": "stream",
     "text": [
      "Enter a commentHad to delete because I don’t want to seem like I can’t spell so. “Nigga” is a slang word for “nigger” so that’s why it is disrespectful and also disgusting. Two it shows me you have no respect for your black friends Bc you’re calling them that and saying it around them\n"
     ]
    }
   ],
   "source": [
    "user_input=input(\"Enter a comment\")\n"
   ]
  },
  {
   "cell_type": "code",
   "execution_count": 99,
   "id": "e8075a3d",
   "metadata": {},
   "outputs": [],
   "source": [
    "emotion=predict_emotion(user_input)\n"
   ]
  },
  {
   "cell_type": "code",
   "execution_count": 100,
   "id": "dbd2dfd4",
   "metadata": {},
   "outputs": [
    {
     "name": "stdout",
     "output_type": "stream",
     "text": [
      "['ethnicity']\n"
     ]
    }
   ],
   "source": [
    "print(emotion)"
   ]
  },
  {
   "cell_type": "markdown",
   "id": "83da3889",
   "metadata": {},
   "source": [
    "# XGBClassifier"
   ]
  },
  {
   "cell_type": "code",
   "execution_count": 101,
   "id": "5885bc42",
   "metadata": {},
   "outputs": [],
   "source": [
    "xgb_i=xgb.XGBClassifier()"
   ]
  },
  {
   "cell_type": "code",
   "execution_count": 102,
   "id": "4e3de2df",
   "metadata": {},
   "outputs": [
    {
     "data": {
      "text/plain": [
       "XGBClassifier(base_score=None, booster=None, callbacks=None,\n",
       "              colsample_bylevel=None, colsample_bynode=None,\n",
       "              colsample_bytree=None, early_stopping_rounds=None,\n",
       "              enable_categorical=False, eval_metric=None, feature_types=None,\n",
       "              gamma=None, gpu_id=None, grow_policy=None, importance_type=None,\n",
       "              interaction_constraints=None, learning_rate=None, max_bin=None,\n",
       "              max_cat_threshold=None, max_cat_to_onehot=None,\n",
       "              max_delta_step=None, max_depth=None, max_leaves=None,\n",
       "              min_child_weight=None, missing=nan, monotone_constraints=None,\n",
       "              n_estimators=100, n_jobs=None, num_parallel_tree=None,\n",
       "              objective='multi:softprob', predictor=None, ...)"
      ]
     },
     "execution_count": 102,
     "metadata": {},
     "output_type": "execute_result"
    }
   ],
   "source": [
    "xgb_i.fit(X_train_tfidf,y_train)"
   ]
  },
  {
   "cell_type": "code",
   "execution_count": 103,
   "id": "355aaa3b",
   "metadata": {},
   "outputs": [],
   "source": [
    "y_pred=xgb_i.predict(X_train_tfidf)\n"
   ]
  },
  {
   "cell_type": "code",
   "execution_count": 104,
   "id": "70b3d14d",
   "metadata": {},
   "outputs": [
    {
     "data": {
      "text/plain": [
       "0.9021579128691785"
      ]
     },
     "execution_count": 104,
     "metadata": {},
     "output_type": "execute_result"
    }
   ],
   "source": [
    "accuracy_score(y_train,y_pred)"
   ]
  },
  {
   "cell_type": "code",
   "execution_count": 105,
   "id": "f1deb415",
   "metadata": {},
   "outputs": [],
   "source": [
    "y_pred=xgb_i.predict(X_test_tfidf)\n"
   ]
  },
  {
   "cell_type": "code",
   "execution_count": 106,
   "id": "c07e537c",
   "metadata": {},
   "outputs": [
    {
     "data": {
      "text/plain": [
       "0.8363324219495136"
      ]
     },
     "execution_count": 106,
     "metadata": {},
     "output_type": "execute_result"
    }
   ],
   "source": [
    "accuracy_score(y_test,y_pred)"
   ]
  },
  {
   "cell_type": "code",
   "execution_count": 107,
   "id": "1976d1a0",
   "metadata": {},
   "outputs": [],
   "source": [
    "cm=confusion_matrix(y_test,y_pred)"
   ]
  },
  {
   "cell_type": "code",
   "execution_count": 108,
   "id": "1bf501fb",
   "metadata": {},
   "outputs": [
    {
     "data": {
      "text/plain": [
       "<AxesSubplot:>"
      ]
     },
     "execution_count": 108,
     "metadata": {},
     "output_type": "execute_result"
    },
    {
     "data": {
      "image/png": "[encoded data removed]",
      "text/plain": [
       "<Figure size 432x288 with 2 Axes>"
      ]
     },
     "metadata": {
      "needs_background": "light"
     },
     "output_type": "display_data"
    }
   ],
   "source": [
    "sns.heatmap(data=cm,fmt='d',annot=True)"
   ]
  },
  {
   "cell_type": "code",
   "execution_count": 109,
   "id": "eb3368ea",
   "metadata": {},
   "outputs": [
    {
     "name": "stdout",
     "output_type": "stream",
     "text": [
      "              precision    recall  f1-score   support\n",
      "\n",
      "           0       0.97      0.98      0.98      2625\n",
      "           1       0.99      0.99      0.99      2626\n",
      "           2       0.92      0.83      0.87      2580\n",
      "           3       0.66      0.48      0.56      2718\n",
      "           4       0.57      0.79      0.66      2557\n",
      "           5       0.96      0.95      0.96      2621\n",
      "\n",
      "    accuracy                           0.84     15727\n",
      "   macro avg       0.85      0.84      0.84     15727\n",
      "weighted avg       0.85      0.84      0.84     15727\n",
      "\n"
     ]
    }
   ],
   "source": [
    "print(classification_report(y_test,y_pred))"
   ]
  },
  {
   "cell_type": "code",
   "execution_count": 110,
   "id": "300ee42e",
   "metadata": {},
   "outputs": [
    {
     "name": "stdout",
     "output_type": "stream",
     "text": [
      "Enter a commentHad to delete because I don’t want to seem like I can’t spell so. “Nigga” is a slang word for “nigger” so that’s why it is disrespectful and also disgusting. Two it shows me you have no respect for your black friends Bc you’re calling them that and saying it around them\n"
     ]
    }
   ],
   "source": [
    "user_input=input(\"Enter a comment\")\n"
   ]
  },
  {
   "cell_type": "code",
   "execution_count": 111,
   "id": "a68a2d95",
   "metadata": {},
   "outputs": [],
   "source": [
    "emotion=predict_emotion(user_input)\n"
   ]
  },
  {
   "cell_type": "code",
   "execution_count": 112,
   "id": "2af465ab",
   "metadata": {},
   "outputs": [
    {
     "name": "stdout",
     "output_type": "stream",
     "text": [
      "['ethnicity']\n"
     ]
    }
   ],
   "source": [
    "print(emotion)"
   ]
  }
 ],
 "metadata": {
  "kernelspec": {
   "display_name": "Python 3 (ipykernel)",
   "language": "python",
   "name": "python3"
  },
  "language_info": {
   "codemirror_mode": {
    "name": "ipython",
    "version": 3
   },
   "file_extension": ".py",
   "mimetype": "text/x-python",
   "name": "python",
   "nbconvert_exporter": "python",
   "pygments_lexer": "ipython3",
   "version": "3.9.12"
  }
 },
 "nbformat": 4,
 "nbformat_minor": 5
}
